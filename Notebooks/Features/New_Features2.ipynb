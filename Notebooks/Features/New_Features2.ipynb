{
  "cells": [
    {
      "cell_type": "code",
      "execution_count": 1,
      "metadata": {
        "id": "CYNUvTbfnzD0"
      },
      "outputs": [],
      "source": [
        "## Importing libraries\n",
        "import pandas as pd\n",
        "import numpy as np\n",
        "from tqdm import tqdm\n",
        "tqdm.pandas()"
      ]
    },
    {
      "cell_type": "code",
      "execution_count": 2,
      "metadata": {
        "id": "4YGCxlj4n21d"
      },
      "outputs": [],
      "source": [
        "match_lvl_data = pd.read_csv('/Users/alokroy/Documents/Programming/Projects/Amex/data/main/664389efa0868_match_level_scorecard.csv')\n",
        "batsman_lvl_data = pd.read_csv('/Users/alokroy/Documents/Programming/Projects/Amex/data/main/663e2b548c98c_batsman_level_scorecard.csv')\n",
        "bowler_lvl_data = pd.read_csv('/Users/alokroy/Documents/Programming/Projects/Amex/data/main/663e2b2c60743_bowler_level_scorecard.csv')\n",
        "train_data = pd.read_csv('/Users/alokroy/Documents/Programming/Projects/Amex/data/main/663e2b6d54457_train_data_with_samplefeatures.csv')\n",
        "test_data = pd.read_csv('/Users/alokroy/Documents/Programming/Projects/Amex/data/main/6644a1e287df6_test_data_with_samplefeatures.csv')"
      ]
    },
    {
      "cell_type": "code",
      "execution_count": 3,
      "metadata": {
        "id": "jd1beeZUoP-D"
      },
      "outputs": [],
      "source": [
        "## Creating a binary winner column - 0 if team1 wins, else 1\n",
        "train_data['winner_01'] = train_data.apply(lambda x: 0 if (x['team1']==x['winner']) else 1, axis=1)"
      ]
    },
    {
      "cell_type": "markdown",
      "metadata": {
        "id": "7iJzqek1pFwe"
      },
      "source": [
        "## Feature Functions"
      ]
    },
    {
      "cell_type": "code",
      "execution_count": 4,
      "metadata": {
        "id": "b3m8565FpBl5"
      },
      "outputs": [],
      "source": [
        "def giveLastNgamesPlayer(player_id, date, n, bat_or_bowl):\n",
        "    '''\n",
        "    Function to get last n games stats of a player before an input date.\n",
        "\n",
        "    Input-\n",
        "    1. player_id: id of the player to get historical data.\n",
        "    2. date: date to look-back and get n games. Stats returned are before this input date.\n",
        "    3. n: Number of historical games stats to return.\n",
        "    4. bat_or_bowl: Kind of stats to return. {'bat': batting stats to return, 'bowl': bowling stats to return}\n",
        "\n",
        "    Output-None\n",
        "\n",
        "    Returns- dataframe having bowling/batting stats from last n games of a player before an input date.\n",
        "    The results are sorted by date.\n",
        "    '''\n",
        "    if bat_or_bowl == 'bat':\n",
        "        df_topick = batsman_lvl_data\n",
        "        id_col = 'batsman_id'\n",
        "    else:\n",
        "        df_topick = bowler_lvl_data\n",
        "        id_col = 'bowler_id'\n",
        "\n",
        "    return df_topick[(df_topick['match_dt']<date)&(df_topick[id_col]==float(player_id))]\\\n",
        "                .sort_values(by='match_dt', ascending=False).head(n)"
      ]
    },
    {
      "cell_type": "code",
      "execution_count": 5,
      "metadata": {
        "id": "w1BVM_uWtwG-"
      },
      "outputs": [],
      "source": [
        "def calculate_batsman_strike_rate(player_list, date, n):\n",
        "    player_list = str(player_list).split(':')  # Split string of ':' separated ids into a list of ids\n",
        "    res_list = []\n",
        "\n",
        "    for player in player_list:\n",
        "        recent_matches = giveLastNgamesPlayer(player_id=player, date=date, n=n, bat_or_bowl='bat')\n",
        "        runs = recent_matches['runs'].sum()\n",
        "        balls = recent_matches['balls_faced'].sum()\n",
        "\n",
        "        # Calculate strike rate and avoid division by zero\n",
        "        if balls > 0:\n",
        "            strike_rate = (runs / balls) * 100\n",
        "        else:\n",
        "            strike_rate = 0\n",
        "\n",
        "        res_list.append(strike_rate)\n",
        "\n",
        "    # Calculate the average strike rate across all players in the list\n",
        "    if res_list:  # Ensure the list is not empty to avoid division by zero\n",
        "        average_strike_rate = sum(res_list) / len(res_list)\n",
        "    else:\n",
        "        average_strike_rate = 0\n",
        "\n",
        "    return average_strike_rate\n",
        "\n",
        "\n",
        "def calculate_bowler_economy_rate(player_list, date, n):\n",
        "    player_list = player_list.split(':')\n",
        "    economy_rates = []\n",
        "    for player_id in player_list:\n",
        "        recent_matches = giveLastNgamesPlayer(player_id=player_id, date=date, n=n, bat_or_bowl='bowl')\n",
        "        runs_conceded = recent_matches['runs'].sum()\n",
        "        overs = (recent_matches['balls_bowled'].sum()) / 6\n",
        "        economy_rate = (runs_conceded / overs) if overs > 0 else 0\n",
        "        economy_rates.append(economy_rate)\n",
        "    return sum(economy_rates) / len(economy_rates) if economy_rates else 0\n",
        "\n",
        "\n",
        "def average_wickets_taken(player_list, date, n):\n",
        "    player_list = player_list.split(':')\n",
        "    wickets_list = []\n",
        "    for player_id in player_list:\n",
        "        recent_matches = giveLastNgamesPlayer(player_id=player_id, date=date, n=n, bat_or_bowl='bowl')\n",
        "        total_wickets = recent_matches['wicket_count'].sum()\n",
        "        average_wickets = total_wickets / n if n > 0 else 0\n",
        "        wickets_list.append(average_wickets)\n",
        "    return sum(wickets_list) / len(wickets_list) if wickets_list else 0\n",
        "\n",
        "\n",
        "def team_batting_strength(player_list, date, n):\n",
        "    players = player_list.split(':')\n",
        "    total_runs = 0\n",
        "    for player_id in players:\n",
        "        recent_matches = giveLastNgamesPlayer(player_id=player_id, date=date, n=n, bat_or_bowl='bat')\n",
        "        total_runs += recent_matches['runs'].sum()\n",
        "    return total_runs / len(players) if players else 0"
      ]
    },
    {
      "cell_type": "code",
      "execution_count": 6,
      "metadata": {
        "colab": {
          "base_uri": "https://localhost:8080/"
        },
        "id": "sk1tuopmv60h",
        "outputId": "b41b4f0d-04f7-41a4-d763-fc19c4c92984"
      },
      "outputs": [
        {
          "name": "stderr",
          "output_type": "stream",
          "text": [
            "100%|██████████| 948/948 [00:15<00:00, 59.91it/s]\n",
            "100%|██████████| 948/948 [00:16<00:00, 58.92it/s]\n",
            "100%|██████████| 948/948 [00:12<00:00, 76.29it/s]\n",
            "100%|██████████| 948/948 [00:12<00:00, 76.52it/s]\n",
            "100%|██████████| 948/948 [00:12<00:00, 78.03it/s]\n",
            "100%|██████████| 948/948 [00:12<00:00, 78.64it/s]\n",
            "100%|██████████| 948/948 [00:15<00:00, 61.00it/s]\n",
            "100%|██████████| 948/948 [00:15<00:00, 60.92it/s]\n"
          ]
        }
      ],
      "source": [
        "train_data['team1_strike_rate'] = train_data.progress_apply(lambda x: \\\n",
        "            calculate_batsman_strike_rate(player_list=x['team1_roster_ids'], date=x['match_dt'], n=15), axis=1)\n",
        "train_data['team2_strike_rate'] = train_data.progress_apply(lambda x: \\\n",
        "            calculate_batsman_strike_rate(player_list=x['team2_roster_ids'], date=x['match_dt'], n=15), axis=1)\n",
        "\n",
        "train_data['team1_bowler_eco'] = train_data.progress_apply(lambda x: \\\n",
        "            calculate_bowler_economy_rate(player_list=x['team1_roster_ids'], date=x['match_dt'], n=15), axis=1)\n",
        "train_data['team2_bowler_eco'] = train_data.progress_apply(lambda x: \\\n",
        "            calculate_bowler_economy_rate(player_list=x['team2_roster_ids'], date=x['match_dt'], n=15), axis=1)\n",
        "\n",
        "train_data['team1_avg_wicket'] = train_data.progress_apply(lambda x: \\\n",
        "            average_wickets_taken(player_list=x['team1_roster_ids'], date=x['match_dt'], n=15), axis=1)\n",
        "train_data['team2_avg_wicket'] = train_data.progress_apply(lambda x: \\\n",
        "            average_wickets_taken(player_list=x['team2_roster_ids'], date=x['match_dt'], n=15), axis=1)\n",
        "\n",
        "train_data['team1_batting_strength'] = train_data.progress_apply(lambda x: \\\n",
        "            team_batting_strength(player_list=x['team1_roster_ids'], date=x['match_dt'], n=15), axis=1)\n",
        "train_data['team2_batting_strength'] = train_data.progress_apply(lambda x: \\\n",
        "            team_batting_strength(player_list=x['team2_roster_ids'], date=x['match_dt'], n=15), axis=1)"
      ]
    },
    {
      "cell_type": "markdown",
      "metadata": {
        "id": "GTo_MYMJ8lgm"
      },
      "source": [
        "## More features"
      ]
    },
    {
      "cell_type": "code",
      "execution_count": 7,
      "metadata": {
        "id": "dG7NGoSJ6ekO"
      },
      "outputs": [],
      "source": [
        "def player_form_factor(player_list, date, n):\n",
        "    players = player_list.split(':')\n",
        "    form_factors = []\n",
        "    for player_id in players:\n",
        "        recent_matches = giveLastNgamesPlayer(player_id=player_id, date=date, n=n, bat_or_bowl='bat')\n",
        "        if not recent_matches.empty:\n",
        "            weights = np.linspace(1, 2, len(recent_matches))  # Linear weight increase from 1 to 2\n",
        "            form_factors.append(np.average(recent_matches['runs'], weights=weights))\n",
        "        else:\n",
        "            form_factors.append(0)\n",
        "    return np.mean(form_factors) if players else 0"
      ]
    },
    {
      "cell_type": "code",
      "execution_count": 8,
      "metadata": {
        "id": "WJJ8Exqw9NZM"
      },
      "outputs": [
        {
          "name": "stderr",
          "output_type": "stream",
          "text": [
            "100%|██████████| 948/948 [00:15<00:00, 59.79it/s]\n",
            "100%|██████████| 948/948 [00:16<00:00, 56.12it/s]\n"
          ]
        }
      ],
      "source": [
        "train_data['team1_form_factor'] = train_data.progress_apply(lambda x: \\\n",
        "            player_form_factor(player_list=x['team1_roster_ids'], date=x['match_dt'], n=15), axis=1)\n",
        "train_data['team2_form_factor'] = train_data.progress_apply(lambda x: \\\n",
        "            player_form_factor(player_list=x['team2_roster_ids'], date=x['match_dt'], n=15), axis=1)\n"
      ]
    },
    {
      "cell_type": "code",
      "execution_count": 9,
      "metadata": {
        "id": "SYS3KsAxA_7M"
      },
      "outputs": [],
      "source": [
        "def head_to_head_performance(team1_id, team2_id, date, match_lvl_data):\n",
        "    # Filter matches between the two teams up to the specified date\n",
        "    relevant_matches = match_lvl_data[\n",
        "        (match_lvl_data['match_dt'] < date) &\n",
        "        ((match_lvl_data['team1_id'] == team1_id) & (match_lvl_data['team2_id'] == team2_id) |\n",
        "         (match_lvl_data['team1_id'] == team2_id) & (match_lvl_data['team2_id'] == team1_id))\n",
        "    ]\n",
        "\n",
        "    # Calculate win percentage for team1\n",
        "    team1_wins = relevant_matches['winner_id'].apply(lambda x: 1 if x == team1_id else 0).sum()\n",
        "    win_percentage = team1_wins / len(relevant_matches) if len(relevant_matches) > 0 else 0\n",
        "\n",
        "    # Calculate average score for team1 in these matches\n",
        "    # Assuming scores are in 'inning1_runs' or 'inning2_runs' based on which team was batting first\n",
        "    team1_scores = relevant_matches.apply(\n",
        "        lambda x: x['inning1_runs'] if x['team1_id'] == team1_id else x['inning2_runs'], axis=1\n",
        "    )\n",
        "    team1_avg_score = team1_scores.mean() if len(team1_scores) > 0 else 0\n",
        "\n",
        "    return win_percentage, team1_avg_score"
      ]
    },
    {
      "cell_type": "code",
      "execution_count": 10,
      "metadata": {
        "id": "LAV_PWiWBl_I"
      },
      "outputs": [],
      "source": [
        "# Applying the function to the train_data DataFrame\n",
        "train_data[['team1_win_percentage', 'team1_avg_score']] = train_data.apply(\n",
        "    lambda x: head_to_head_performance(\n",
        "        team1_id=x['team1_id'],\n",
        "        team2_id=x['team2_id'],\n",
        "        date=x['match_dt'],\n",
        "        match_lvl_data=match_lvl_data\n",
        "    ), axis=1, result_type='expand'\n",
        ")"
      ]
    },
    {
      "cell_type": "code",
      "execution_count": 11,
      "metadata": {
        "id": "SF2dHFWNGT1R"
      },
      "outputs": [],
      "source": [
        "def recent_performance(team_id, date, n, match_lvl_data):\n",
        "    recent_matches = match_lvl_data[\n",
        "        (match_lvl_data['match_dt'] < date) &\n",
        "        ((match_lvl_data['team1_id'] == team_id) | (match_lvl_data['team2_id'] == team_id))\n",
        "    ].tail(n)\n",
        "    wins = recent_matches['winner_id'].apply(lambda x: 1 if x == team_id else 0).sum()\n",
        "    return wins / len(recent_matches) if len(recent_matches) > 0 else 0\n",
        "\n",
        "def average_winning_margin(team_id, date, match_lvl_data):\n",
        "    winning_matches = match_lvl_data[\n",
        "        (match_lvl_data['winner_id'] == team_id) & (match_lvl_data['match_dt'] < date)\n",
        "    ]\n",
        "    if len(winning_matches) > 0:\n",
        "        runs_wins = winning_matches[winning_matches['by'] == 'runs']['win amount']\n",
        "        wickets_wins = winning_matches[winning_matches['by'] == 'wickets']['win amount']\n",
        "        average_margin = pd.concat([runs_wins, wickets_wins]).mean()\n",
        "        return average_margin\n",
        "    return 0\n",
        "\n",
        "def team_scoring_average(team_id, date, match_lvl_data):\n",
        "    team_matches = match_lvl_data[\n",
        "        (match_lvl_data['match_dt'] < date) &\n",
        "        ((match_lvl_data['team1_id'] == team_id) | (match_lvl_data['team2_id'] == team_id))\n",
        "    ]\n",
        "    team_scores = team_matches.apply(\n",
        "        lambda x: x['inning1_runs'] if x['team1_id'] == team_id else x['inning2_runs'], axis=1\n",
        "    )\n",
        "    return team_scores.mean() if len(team_scores) > 0 else 0\n",
        "\n",
        "def team_wicket_loss_average(team_id, date, match_lvl_data):\n",
        "    team_matches = match_lvl_data[\n",
        "        (match_lvl_data['match_dt'] < date) &\n",
        "        ((match_lvl_data['team1_id'] == team_id) | (match_lvl_data['team2_id'] == team_id))\n",
        "    ]\n",
        "    team_wickets = team_matches.apply(\n",
        "        lambda x: x['inning1_wickets'] if x['team1_id'] == team_id else x['inning2_wickets'], axis=1\n",
        "    )\n",
        "    return team_wickets.mean() if len(team_wickets) > 0 else 0"
      ]
    },
    {
      "cell_type": "code",
      "execution_count": 12,
      "metadata": {
        "id": "jY7ruznHGTzM"
      },
      "outputs": [],
      "source": [
        "n_matches = 15  # Number of recent matches to consider\n",
        "train_data['team1_recent_win_rate'] = train_data.apply(\n",
        "    lambda x: recent_performance(\n",
        "        team_id=x['team1_id'],\n",
        "        date=x['match_dt'],\n",
        "        n=n_matches,\n",
        "        match_lvl_data=match_lvl_data\n",
        "    ), axis=1\n",
        ")\n",
        "\n",
        "train_data['team1_average_winning_margin'] = train_data.apply(\n",
        "    lambda x: average_winning_margin(\n",
        "        team_id=x['team1_id'],\n",
        "        date=x['match_dt'],\n",
        "        match_lvl_data=match_lvl_data\n",
        "    ), axis=1\n",
        ")\n",
        "\n",
        "train_data['team1_scoring_average'] = train_data.apply(\n",
        "    lambda x: team_scoring_average(\n",
        "        team_id=x['team1_id'],\n",
        "        date=x['match_dt'],\n",
        "        match_lvl_data=match_lvl_data\n",
        "    ), axis=1\n",
        ")\n",
        "\n",
        "train_data['team1_wicket_loss_average'] = train_data.apply(\n",
        "    lambda x: team_wicket_loss_average(\n",
        "        team_id=x['team1_id'],\n",
        "        date=x['match_dt'],\n",
        "        match_lvl_data=match_lvl_data\n",
        "    ), axis=1\n",
        ")"
      ]
    },
    {
      "cell_type": "code",
      "execution_count": 13,
      "metadata": {
        "id": "fnRPzWAgHWj2"
      },
      "outputs": [],
      "source": [
        "n_matches = 15  # Number of recent matches to consider\n",
        "train_data['team2_recent_win_rate'] = train_data.apply(\n",
        "    lambda x: recent_performance(\n",
        "        team_id=x['team2_id'],\n",
        "        date=x['match_dt'],\n",
        "        n=n_matches,\n",
        "        match_lvl_data=match_lvl_data\n",
        "    ), axis=1\n",
        ")\n",
        "\n",
        "train_data['team2_average_winning_margin'] = train_data.apply(\n",
        "    lambda x: average_winning_margin(\n",
        "        team_id=x['team2_id'],\n",
        "        date=x['match_dt'],\n",
        "        match_lvl_data=match_lvl_data\n",
        "    ), axis=1\n",
        ")\n",
        "\n",
        "train_data['team2_scoring_average'] = train_data.apply(\n",
        "    lambda x: team_scoring_average(\n",
        "        team_id=x['team2_id'],\n",
        "        date=x['match_dt'],\n",
        "        match_lvl_data=match_lvl_data\n",
        "    ), axis=1\n",
        ")\n",
        "\n",
        "train_data['team2_wicket_loss_average'] = train_data.apply(\n",
        "    lambda x: team_wicket_loss_average(\n",
        "        team_id=x['team2_id'],\n",
        "        date=x['match_dt'],\n",
        "        match_lvl_data=match_lvl_data\n",
        "    ), axis=1\n",
        ")"
      ]
    },
    {
      "cell_type": "markdown",
      "metadata": {
        "id": "02XriP3xoHuv"
      },
      "source": [
        "## More Features"
      ]
    },
    {
      "cell_type": "code",
      "execution_count": 14,
      "metadata": {
        "id": "ipWbp1UUoKpg"
      },
      "outputs": [],
      "source": [
        "def average_score_by_venue(venue_id, date, match_lvl_data):\n",
        "    # Filter matches based on the venue and date\n",
        "    relevant_matches = match_lvl_data[(match_lvl_data['ground_id'] == venue_id) & (match_lvl_data['match_dt'] < date)]\n",
        "    average_score = (relevant_matches['inning1_runs'].sum() + relevant_matches['inning2_runs'].sum()) / (2 * len(relevant_matches))\n",
        "    return average_score if not pd.isna(average_score) else 0\n",
        "\n",
        "def team_win_rate_at_venue(team_id, venue_id, date, match_lvl_data):\n",
        "    # Filter matches where the team played at the given venue up to the specified date\n",
        "    relevant_matches = match_lvl_data[(match_lvl_data['ground_id'] == venue_id) &\n",
        "                                      ((match_lvl_data['team1_id'] == team_id) | (match_lvl_data['team2_id'] == team_id)) &\n",
        "                                      (match_lvl_data['match_dt'] < date)]\n",
        "    wins = relevant_matches['winner_id'].apply(lambda x: 1 if x == team_id else 0).sum()\n",
        "    win_rate = wins / len(relevant_matches) if len(relevant_matches) > 0 else 0\n",
        "    return win_rate\n",
        "\n",
        "def most_frequent_matchups(team_id, match_lvl_data):\n",
        "    # Filter matches involving the team\n",
        "    relevant_matches = match_lvl_data[(match_lvl_data['team1_id'] == team_id) | (match_lvl_data['team2_id'] == team_id)]\n",
        "    opponent_counts = relevant_matches.apply(lambda x: x['team2_id'] if x['team1_id'] == team_id else x['team1_id'], axis=1).value_counts()\n",
        "    return opponent_counts"
      ]
    },
    {
      "cell_type": "markdown",
      "metadata": {
        "id": "UYVX_eE5uIr8"
      },
      "source": [
        "More features new"
      ]
    },
    {
      "cell_type": "code",
      "execution_count": 15,
      "metadata": {
        "id": "DK8qVWhquHZm"
      },
      "outputs": [],
      "source": [
        "def batsman_performance_index(bat_df, match_id, date):\n",
        "    relevant_batsmen = bat_df[(bat_df['match id'] == match_id) & (bat_df['match_dt'] < date)]\n",
        "    relevant_batsmen['performance_index'] = (relevant_batsmen['runs'] * 0.5 +\n",
        "                                             relevant_batsmen['strike_rate'] * 0.3 +\n",
        "                                             (relevant_batsmen['Fours'] + relevant_batsmen['Sixes'] * 2) * 0.2) * \\\n",
        "                                            (1 + 0.1 * relevant_batsmen['is_batsman_captain'] + 0.05 * relevant_batsmen['is_batsman_keeper'])\n",
        "    return relevant_batsmen['performance_index'].sum()\n",
        "\n",
        "\n",
        "\n",
        "def team_batsman_performance_index(bat_df, match_id, team_roster_ids, date, n=5):\n",
        "    team_ids = str(team_roster_ids).split(':')\n",
        "    total_performance_index = 0\n",
        "\n",
        "    for player_id in team_ids:\n",
        "        recent_matches = giveLastNgamesPlayer(player_id=player_id, date=date, n=n, bat_or_bowl='bat')\n",
        "        if not recent_matches.empty:\n",
        "            player_performance = (recent_matches['runs'] * 0.5 +\n",
        "                                  recent_matches['strike_rate'] * 0.3 +\n",
        "                                  (recent_matches['Fours'] + recent_matches['Sixes'] * 2) * 0.2) * \\\n",
        "                                  (1 + 0.1 * recent_matches['is_batsman_captain'].iloc[0] +\n",
        "                                   0.05 * recent_matches['is_batsman_keeper'].iloc[0])\n",
        "            total_performance_index += player_performance.sum()\n",
        "\n",
        "    return total_performance_index\n",
        "\n",
        "\n",
        "def team_bowler_impact_score(bowler_df, match_id, team_roster_ids, date, n=5):\n",
        "    team_ids = str(team_roster_ids).split(':')\n",
        "    total_impact_score = 0\n",
        "\n",
        "    for player_id in team_ids:\n",
        "        recent_matches = giveLastNgamesPlayer(player_id=player_id, date=date, n=n, bat_or_bowl='bowl')\n",
        "        if not recent_matches.empty:\n",
        "            player_impact = (recent_matches['wicket_count'] * 2 +\n",
        "                             (120 / recent_matches['economy']) * 0.5 +\n",
        "                             recent_matches['maiden'] * 1) * \\\n",
        "                            (1 + 0.1 * recent_matches['is_bowler_captain'].iloc[0] +\n",
        "                             0.05 * recent_matches['is_bowler_keeper'].iloc[0])\n",
        "            total_impact_score += player_impact.sum()\n",
        "\n",
        "    return total_impact_score\n"
      ]
    },
    {
      "cell_type": "code",
      "execution_count": 17,
      "metadata": {
        "id": "pbGyjSNCu9LS"
      },
      "outputs": [],
      "source": [
        "def venue_performance(match_lvl_data, venue_id, date):\n",
        "    historical_matches = match_lvl_data[(match_lvl_data['ground_id'] == venue_id) & (match_lvl_data['match_dt'] < date)]\n",
        "    average_runs = historical_matches[['inning1_runs', 'inning2_runs']].mean().mean()\n",
        "    win_rate = historical_matches['winner'].value_counts(normalize=True)\n",
        "    return average_runs, win_rate\n",
        "\n",
        "train_data['venue_avg_runs'], train_data['venue_win_rate'] = zip(*train_data.apply(\n",
        "    lambda x: venue_performance(match_lvl_data, x['ground_id'], x['match_dt']),\n",
        "    axis=1\n",
        "))\n",
        "\n",
        "\n",
        "# def lighting_performance(match_lvl_data, lighting_type, date):\n",
        "#     matches = match_lvl_data[(match_lvl_data['lighting'] == lighting_type) & (match_lvl_data['match_dt'] < date)]\n",
        "#     win_rate = matches['winner'].value_counts(normalize=True)\n",
        "#     return win_rate\n",
        "\n",
        "# train_data['lighting_win_rate'] = train_data.apply(\n",
        "#     lambda x: lighting_performance(match_lvl_data, x['lighting'], x['match_dt']),\n",
        "#     axis=1\n",
        "# )\n",
        "\n",
        "\n",
        "def lighting_performance(match_lvl_data, lighting_type, team_id, date):\n",
        "    matches = match_lvl_data[(match_lvl_data['lighting'] == lighting_type) & (match_lvl_data['match_dt'] < date)]\n",
        "    if len(matches) > 0:\n",
        "        wins = matches[matches['winner_id'] == team_id].shape[0]\n",
        "        return wins / len(matches)\n",
        "    return 0  # Return 0 if no matches found under this condition\n",
        "\n",
        "# Applying the function to each row and lighting condition\n",
        "train_data['team1_night_match_win_rate'] = train_data.apply(\n",
        "    lambda x: lighting_performance(match_lvl_data, 'night match', x['team1_id'], x['match_dt']),\n",
        "    axis=1\n",
        ")\n",
        "train_data['team2_night_match_win_rate'] = train_data.apply(\n",
        "    lambda x: lighting_performance(match_lvl_data, 'night match', x['team2_id'], x['match_dt']),\n",
        "    axis=1\n",
        ")\n",
        "train_data['team1_day_match_win_rate'] = train_data.apply(\n",
        "    lambda x: lighting_performance(match_lvl_data, 'day match', x['team1_id'], x['match_dt']),\n",
        "    axis=1\n",
        ")\n",
        "train_data['team2_day_match_win_rate'] = train_data.apply(\n",
        "    lambda x: lighting_performance(match_lvl_data, 'day match', x['team2_id'], x['match_dt']),\n",
        "    axis=1\n",
        ")\n",
        "train_data['team1_day_night_match_win_rate'] = train_data.apply(\n",
        "    lambda x: lighting_performance(match_lvl_data, 'day/night match', x['team1_id'], x['match_dt']),\n",
        "    axis=1\n",
        ")\n",
        "train_data['team2_day_night_match_win_rate'] = train_data.apply(\n",
        "    lambda x: lighting_performance(match_lvl_data, 'day/night match', x['team2_id'], x['match_dt']),\n",
        "    axis=1\n",
        ")\n",
        "\n",
        "\n",
        "\n",
        "def toss_advantage(match_lvl_data, team_id, date):             #( WRONG IMPLEMENTATION )\n",
        "    matches = match_lvl_data[(match_lvl_data['toss winner'] == team_id) & (match_lvl_data['match_dt'] < date)]\n",
        "    wins_after_toss_win = matches[matches['winner'] == team_id].shape[0]\n",
        "    if matches.shape[0] > 0:\n",
        "        return wins_after_toss_win / matches.shape[0]\n",
        "    return 0\n",
        "\n",
        "train_data['team1_toss_advantage'] = train_data.apply(\n",
        "    lambda x: toss_advantage(match_lvl_data, x['team1_id'], x['match_dt']),\n",
        "    axis=1\n",
        ")\n",
        "train_data['team2_toss_advantage'] = train_data.apply(\n",
        "    lambda x: toss_advantage(match_lvl_data, x['team2_id'], x['match_dt']),\n",
        "    axis=1\n",
        ")\n",
        "def series_type_performance(match_lvl_data, team_id, series_type, date):\n",
        "    relevant_matches = match_lvl_data[(match_lvl_data['series_type'] == series_type) &\n",
        "                                      ((match_lvl_data['team1_id'] == team_id) | (match_lvl_data['team2_id'] == team_id)) &\n",
        "                                      (match_lvl_data['match_dt'] < date)]\n",
        "    wins = relevant_matches['winner'].value_counts().get(team_id, 0)\n",
        "    total = relevant_matches.shape[0]\n",
        "    if total > 0:\n",
        "        return wins / total\n",
        "    return 0\n",
        "\n",
        "# train_data['team1_series_type_perf'] = train_data.apply(\n",
        "#     lambda x: series_type_performance(match_lvl_data, x['team1_id'], x['series_type'], x['match_dt']),\n",
        "#     axis=1\n",
        "# )\n",
        "# train_data['team2_series_type_perf'] = train_data.apply(\n",
        "#     lambda x: series_type_performance(match_lvl_data, x['team2_id'], x['series_type'], x['match_dt']),\n",
        "#     axis=1\n",
        "# )\n"
      ]
    },
    {
      "cell_type": "markdown",
      "metadata": {
        "id": "K6yYFMvD4XLA"
      },
      "source": [
        "New new new features"
      ]
    },
    {
      "cell_type": "code",
      "execution_count": 18,
      "metadata": {
        "id": "-0cfNMg24VxO"
      },
      "outputs": [],
      "source": [
        "def adjusted_team_venue_win_rate(match_lvl_data, team_id, venue_id, date):\n",
        "    # Filter matches at the venue for the specific team before the given date\n",
        "    venue_matches = match_lvl_data[(match_lvl_data['ground_id'] == venue_id) &\n",
        "                                   ((match_lvl_data['team1_id'] == team_id) | (match_lvl_data['team2_id'] == team_id)) &\n",
        "                                   (match_lvl_data['match_dt'] < date)]\n",
        "    # Calculate basic win rate\n",
        "    wins = venue_matches[venue_matches['winner_id'] == team_id].shape[0]\n",
        "    total = venue_matches.shape[0]\n",
        "    win_rate = wins / total if total > 0 else 0\n",
        "\n",
        "    # Adjust win rate by recent form (last 5 matches)\n",
        "    recent_form = venue_matches.tail(5)\n",
        "    recent_wins = recent_form[recent_form['winner_id'] == team_id].shape[0]\n",
        "    recent_total = recent_form.shape[0]\n",
        "    recent_win_rate = recent_wins / recent_total if recent_total > 0 else 0\n",
        "\n",
        "    # Combine basic and recent win rates\n",
        "    if total > 0:\n",
        "        adjusted_win_rate = (win_rate * 0.75) + (recent_win_rate * 0.25)\n",
        "    else:\n",
        "        adjusted_win_rate = 0\n",
        "\n",
        "    return adjusted_win_rate\n",
        "\n",
        "# Application\n",
        "train_data['team1_adjusted_win_rate_at_venue'] = train_data.apply(\n",
        "    lambda x: adjusted_team_venue_win_rate(match_lvl_data, x['team1_id'], x['ground_id'], x['match_dt']),\n",
        "    axis=1\n",
        ")\n",
        "train_data['team2_adjusted_win_rate_at_venue'] = train_data.apply(\n",
        "    lambda x: adjusted_team_venue_win_rate(match_lvl_data, x['team2_id'], x['ground_id'], x['match_dt']),\n",
        "    axis=1\n",
        ")\n"
      ]
    },
    {
      "cell_type": "code",
      "execution_count": 19,
      "metadata": {
        "id": "QMjmWahj4VvD"
      },
      "outputs": [],
      "source": [
        "# def venue_lighting_performance(match_lvl_data, venue_id, lighting_condition, date):\n",
        "#     filtered_matches = match_lvl_data[(match_lvl_data['ground_id'] == venue_id) &\n",
        "#                                       (match_lvl_data['lighting'] == lighting_condition) &\n",
        "#                                       (match_lvl_data['match_dt'] < date)]\n",
        "#     wins = filtered_matches['winner'].value_counts(normalize=True)\n",
        "#     return wins\n",
        "\n",
        "# # Application example (assuming binary outcomes for simplicity)\n",
        "# train_data['venue_night_win_rate'] = train_data.apply(\n",
        "#     lambda x: venue_lighting_performance(match_lvl_data, x['ground_id'], 'night match', x['match_dt']),\n",
        "#     axis=1\n",
        "# )\n"
      ]
    },
    {
      "cell_type": "code",
      "execution_count": 20,
      "metadata": {
        "id": "AgVQCcke4Vs7"
      },
      "outputs": [],
      "source": [
        "def toss_strategy_impact(match_lvl_data, team_id, toss_decision, venue_id, date):  #( WRONG IMPLEMENTATION )\n",
        "    matches = match_lvl_data[(match_lvl_data['toss winner'] == team_id) &\n",
        "                             (match_lvl_data['toss decision'] == toss_decision) &\n",
        "                             (match_lvl_data['ground_id'] == venue_id) &\n",
        "                             (match_lvl_data['match_dt'] < date)]\n",
        "    wins = matches[matches['winner_id'] == team_id].shape[0]\n",
        "    total = matches.shape[0]\n",
        "    return wins / total if total > 0 else 0\n",
        "\n",
        "# Application\n",
        "train_data['team1_toss_strategy_at_venue'] = train_data.apply(\n",
        "    lambda x: toss_strategy_impact(match_lvl_data, x['team1_id'], x['toss decision'], x['ground_id'], x['match_dt']),\n",
        "    axis=1\n",
        ")\n",
        "train_data['team2_toss_strategy_at_venue'] = train_data.apply(\n",
        "    lambda x: toss_strategy_impact(match_lvl_data, x['team2_id'], x['toss decision'], x['ground_id'], x['match_dt']),\n",
        "    axis=1\n",
        ")\n"
      ]
    },
    {
      "cell_type": "code",
      "execution_count": 21,
      "metadata": {
        "id": "dmel7MN0u9Hs"
      },
      "outputs": [],
      "source": [
        "def overall_historical_win_rate(match_lvl_data, team_id, date):\n",
        "    historical_matches = match_lvl_data[((match_lvl_data['team1_id'] == team_id) | (match_lvl_data['team2_id'] == team_id)) &\n",
        "                                        (match_lvl_data['match_dt'] < date)]\n",
        "    wins = historical_matches['winner_id'].apply(lambda x: 1 if x == team_id else 0).sum()\n",
        "    total_matches = len(historical_matches)\n",
        "    return wins / total_matches if total_matches > 0 else 0\n",
        "\n",
        "train_data['team1_overall_win_rate'] = train_data.apply(\n",
        "    lambda x: overall_historical_win_rate(match_lvl_data, x['team1_id'], x['match_dt']),\n",
        "    axis=1\n",
        ")\n",
        "train_data['team2_overall_win_rate'] = train_data.apply(\n",
        "    lambda x: overall_historical_win_rate(match_lvl_data, x['team2_id'], x['match_dt']),\n",
        "    axis=1\n",
        ")\n"
      ]
    },
    {
      "cell_type": "code",
      "execution_count": 22,
      "metadata": {
        "id": "WFMBZucB1z2E"
      },
      "outputs": [],
      "source": [
        "def recent_form(match_lvl_data, team_id, date):\n",
        "    recent_matches = match_lvl_data[((match_lvl_data['team1_id'] == team_id) | (match_lvl_data['team2_id'] == team_id)) &\n",
        "                                    (match_lvl_data['match_dt'] < date)].tail(5)\n",
        "    wins = recent_matches['winner_id'].apply(lambda x: 1 if x == team_id else 0).sum()\n",
        "    return wins / 5 if recent_matches.shape[0] > 0 else 0\n",
        "\n",
        "train_data['team1_recent_form'] = train_data.apply(\n",
        "    lambda x: recent_form(match_lvl_data, x['team1_id'], x['match_dt']),\n",
        "    axis=1\n",
        ")\n",
        "train_data['team2_recent_form'] = train_data.apply(\n",
        "    lambda x: recent_form(match_lvl_data, x['team2_id'], x['match_dt']),\n",
        "    axis=1\n",
        ")\n"
      ]
    },
    {
      "cell_type": "code",
      "execution_count": 23,
      "metadata": {
        "id": "EjUFH05L1zyo"
      },
      "outputs": [],
      "source": [
        "def head_to_head_win_rate(match_lvl_data, team1_id, team2_id, date):\n",
        "    head_to_head_matches = match_lvl_data[((match_lvl_data['team1_id'] == team1_id) & (match_lvl_data['team2_id'] == team2_id) |\n",
        "                                           (match_lvl_data['team1_id'] == team2_id) & (match_lvl_data['team2_id'] == team1_id)) &\n",
        "                                          (match_lvl_data['match_dt'] < date)]\n",
        "    wins = head_to_head_matches['winner_id'].apply(lambda x: 1 if x == team1_id else 0).sum()\n",
        "    total = len(head_to_head_matches)\n",
        "    return wins / total if total > 0 else 0\n",
        "\n",
        "train_data['team1_head_to_head_win_rate'] = train_data.apply(\n",
        "    lambda x: head_to_head_win_rate(match_lvl_data, x['team1_id'], x['team2_id'], x['match_dt']),\n",
        "    axis=1\n",
        ")\n"
      ]
    },
    {
      "cell_type": "code",
      "execution_count": null,
      "metadata": {
        "id": "UWS8Ylr21zwi"
      },
      "outputs": [],
      "source": []
    },
    {
      "cell_type": "code",
      "execution_count": null,
      "metadata": {
        "id": "CVGFiMzr1zuT"
      },
      "outputs": [],
      "source": []
    },
    {
      "cell_type": "markdown",
      "metadata": {
        "id": "dyJsRN1IvEcp"
      },
      "source": [
        "Applying on train data"
      ]
    },
    {
      "cell_type": "code",
      "execution_count": 24,
      "metadata": {
        "id": "kz-a8jtevD_q"
      },
      "outputs": [],
      "source": [
        "# Example for integrating one of the functions\n",
        "train_data['batsman_performance_index'] = train_data.apply(\n",
        "    lambda x: batsman_performance_index(batsman_lvl_data, x['match id'], x['match_dt']),\n",
        "    axis=1\n",
        ")\n",
        "\n",
        "# Similar integration can be done for other functions\n"
      ]
    },
    {
      "cell_type": "code",
      "execution_count": 25,
      "metadata": {
        "id": "cSc50SyFwucZ"
      },
      "outputs": [],
      "source": [
        "train_data['team1_batsman_performance_index'] = train_data.apply(\n",
        "    lambda x: team_batsman_performance_index(batsman_lvl_data, x['match id'], x['team1_roster_ids'], x['match_dt']),\n",
        "    axis=1\n",
        ")\n",
        "train_data['team2_batsman_performance_index'] = train_data.apply(\n",
        "    lambda x: team_batsman_performance_index(batsman_lvl_data, x['match id'], x['team2_roster_ids'], x['match_dt']),\n",
        "    axis=1\n",
        ")\n",
        "\n",
        "train_data['team1_bowler_impact_score'] = train_data.apply(\n",
        "    lambda x: team_bowler_impact_score(bowler_lvl_data, x['match id'], x['team1_roster_ids'], x['match_dt']),\n",
        "    axis=1\n",
        ")\n",
        "train_data['team2_bowler_impact_score'] = train_data.apply(\n",
        "    lambda x: team_bowler_impact_score(bowler_lvl_data, x['match id'], x['team2_roster_ids'], x['match_dt']),\n",
        "    axis=1\n",
        ")\n"
      ]
    },
    {
      "cell_type": "code",
      "execution_count": 26,
      "metadata": {
        "id": "vXLJH10O7D-R"
      },
      "outputs": [],
      "source": [
        "def adjusted_venue_win_rate_with_recent_form(match_lvl_data, team_id, venue_id, date):\n",
        "    # Historical win rate at the venue\n",
        "    venue_matches = match_lvl_data[(match_lvl_data['ground_id'] == venue_id) &\n",
        "                                   ((match_lvl_data['team1_id'] == team_id) | (match_lvl_data['team2_id'] == team_id)) &\n",
        "                                   (match_lvl_data['match_dt'] < date)]\n",
        "    venue_wins = venue_matches['winner_id'].apply(lambda x: 1 if x == team_id else 0).sum()\n",
        "    venue_total = len(venue_matches)\n",
        "\n",
        "    # Recent form (last 5 matches overall)\n",
        "    recent_matches = match_lvl_data[((match_lvl_data['team1_id'] == team_id) | (match_lvl_data['team2_id'] == team_id)) &\n",
        "                                    (match_lvl_data['match_dt'] < date)].tail(5)\n",
        "    recent_wins = recent_matches['winner_id'].apply(lambda x: 1 if x == team_id else 0).sum()\n",
        "    recent_total = len(recent_matches)\n",
        "\n",
        "    # Combine both metrics\n",
        "    venue_win_rate = venue_wins / venue_total if venue_total > 0 else 0\n",
        "    recent_win_rate = recent_wins / recent_total if recent_total > 0 else 0\n",
        "    adjusted_win_rate = 0.7 * venue_win_rate + 0.3 * recent_win_rate  # Weighted average\n",
        "\n",
        "    return adjusted_win_rate\n",
        "\n",
        "train_data['team1_adjusted_venue_win_rate'] = train_data.apply(\n",
        "    lambda x: adjusted_venue_win_rate_with_recent_form(match_lvl_data, x['team1_id'], x['ground_id'], x['match_dt']),\n",
        "    axis=1\n",
        ")\n",
        "train_data['team2_adjusted_venue_win_rate'] = train_data.apply(\n",
        "    lambda x: adjusted_venue_win_rate_with_recent_form(match_lvl_data, x['team2_id'], x['ground_id'], x['match_dt']),\n",
        "    axis=1\n",
        ")\n"
      ]
    },
    {
      "cell_type": "code",
      "execution_count": 27,
      "metadata": {
        "id": "bhnfHAPMoKno"
      },
      "outputs": [
        {
          "name": "stderr",
          "output_type": "stream",
          "text": [
            "/var/folders/z7/t3qmw89j637f4y58ls6cb_vh0000gn/T/ipykernel_73973/3592362609.py:4: RuntimeWarning: invalid value encountered in scalar divide\n",
            "  average_score = (relevant_matches['inning1_runs'].sum() + relevant_matches['inning2_runs'].sum()) / (2 * len(relevant_matches))\n"
          ]
        }
      ],
      "source": [
        "train_data['average_score_at_venue'] = train_data.apply(\n",
        "    lambda x: average_score_by_venue(\n",
        "        venue_id=x['ground_id'],\n",
        "        date=x['match_dt'],\n",
        "        match_lvl_data=match_lvl_data\n",
        "    ), axis=1\n",
        ")\n",
        "\n",
        "train_data['team1_win_rate_at_venue'] = train_data.apply(\n",
        "    lambda x: team_win_rate_at_venue(\n",
        "        team_id=x['team1_id'],\n",
        "        venue_id=x['ground_id'],\n",
        "        date=x['match_dt'],\n",
        "        match_lvl_data=match_lvl_data\n",
        "    ), axis=1\n",
        ")\n",
        "\n",
        "train_data['team2_win_rate_at_venue'] = train_data.apply(\n",
        "    lambda x: team_win_rate_at_venue(\n",
        "        team_id=x['team2_id'],\n",
        "        venue_id=x['ground_id'],\n",
        "        date=x['match_dt'],\n",
        "        match_lvl_data=match_lvl_data\n",
        "    ), axis=1\n",
        ")"
      ]
    },
    {
      "cell_type": "code",
      "execution_count": 28,
      "metadata": {
        "id": "a6nZK_5s7hc0"
      },
      "outputs": [],
      "source": [
        "def scoring_consistency(match_lvl_data, team_id, date):\n",
        "    recent_matches = match_lvl_data[((match_lvl_data['team1_id'] == team_id) | (match_lvl_data['team2_id'] == team_id)) &\n",
        "                                    (match_lvl_data['match_dt'] < date)].tail(10)\n",
        "    runs_scored = recent_matches.apply(lambda x: x['inning1_runs'] if x['team1_id'] == team_id else x['inning2_runs'], axis=1)\n",
        "    if len(runs_scored) > 0:\n",
        "        mean_runs = runs_scored.mean()\n",
        "        variance = runs_scored.var()\n",
        "        consistency_index = mean_runs / variance if variance != 0 else mean_runs\n",
        "    else:\n",
        "        consistency_index = 0\n",
        "    return consistency_index\n",
        "\n",
        "train_data['team1_scoring_consistency'] = train_data.apply(\n",
        "    lambda x: scoring_consistency(match_lvl_data, x['team1_id'], x['match_dt']),\n",
        "    axis=1\n",
        ")\n",
        "train_data['team2_scoring_consistency'] = train_data.apply(\n",
        "    lambda x: scoring_consistency(match_lvl_data, x['team2_id'], x['match_dt']),\n",
        "    axis=1\n",
        ")\n"
      ]
    },
    {
      "cell_type": "code",
      "execution_count": 29,
      "metadata": {
        "id": "SI6WLc_w7yAB"
      },
      "outputs": [],
      "source": [
        "def wicket_loss_variance(match_lvl_data, team_id, date):\n",
        "    recent_matches = match_lvl_data[((match_lvl_data['team1_id'] == team_id) | (match_lvl_data['team2_id'] == team_id)) &\n",
        "                                    (match_lvl_data['match_dt'] < date)].tail(10)\n",
        "    wickets_lost = recent_matches.apply(lambda x: x['inning1_wickets'] if x['team1_id'] == team_id else x['inning2_wickets'], axis=1)\n",
        "    variance = wickets_lost.var() if len(wickets_lost) > 0 else 0\n",
        "    return variance\n",
        "\n",
        "train_data['team1_wicket_loss_variance'] = train_data.apply(\n",
        "    lambda x: wicket_loss_variance(match_lvl_data, x['team1_id'], x['match_dt']),\n",
        "    axis=1\n",
        ")\n",
        "train_data['team2_wicket_loss_variance'] = train_data.apply(\n",
        "    lambda x: wicket_loss_variance(match_lvl_data, x['team2_id'], x['match_dt']),\n",
        "    axis=1\n",
        ")\n"
      ]
    },
    {
      "cell_type": "code",
      "execution_count": 30,
      "metadata": {
        "id": "WFMlmHwI8CiB"
      },
      "outputs": [],
      "source": [
        "import numpy as np\n",
        "\n",
        "def calculate_exponential_momentum(match_lvl_data, team_id, date, alpha=0.1):\n",
        "    matches = match_lvl_data[((match_lvl_data['team1_id'] == team_id) | (match_lvl_data['team2_id'] == team_id)) &\n",
        "                             (match_lvl_data['match_dt'] < date)].sort_values('match_dt', ascending=False)\n",
        "    wins = matches['winner_id'].apply(lambda x: 1 if x == team_id else 0).to_numpy()\n",
        "    weights = np.exp(-alpha * np.arange(len(wins)))\n",
        "    if np.sum(weights) > 0:\n",
        "        momentum = np.dot(wins, weights) / np.sum(weights)\n",
        "    else:\n",
        "        momentum = 0  # Handle case with no matches\n",
        "    return momentum\n",
        "\n",
        "\n",
        "train_data['team1_momentum'] = train_data.apply(\n",
        "    lambda x: calculate_exponential_momentum(match_lvl_data, x['team1_id'], x['match_dt']),\n",
        "    axis=1\n",
        ")\n",
        "train_data['team2_momentum'] = train_data.apply(\n",
        "    lambda x: calculate_exponential_momentum(match_lvl_data, x['team2_id'], x['match_dt']),\n",
        "    axis=1\n",
        ")\n"
      ]
    },
    {
      "cell_type": "code",
      "execution_count": 31,
      "metadata": {
        "id": "6WWRK1UU8Nho"
      },
      "outputs": [],
      "source": [
        "# from sklearn.cluster import KMeans\n",
        "\n",
        "# def create_performance_clusters(match_lvl_data, n_clusters=4):\n",
        "#     # Feature engineering for clustering\n",
        "#     teams_stats = match_lvl_data.groupby('team1_id').agg(\n",
        "#         average_score=('inning1_runs', 'mean'),\n",
        "#         win_rate=('winner_id', lambda x: np.mean(x == match_lvl_data['team1_id']))\n",
        "#     ).fillna(0)\n",
        "\n",
        "#     # K-means clustering\n",
        "#     kmeans = KMeans(n_clusters=n_clusters, random_state=42)\n",
        "#     clusters = kmeans.fit_predict(teams_stats)\n",
        "#     teams_stats['cluster'] = clusters\n",
        "\n",
        "#     return teams_stats['cluster'].to_dict()\n",
        "\n",
        "# team_clusters = create_performance_clusters(match_lvl_data)\n",
        "\n",
        "# train_data['team1_cluster'] = train_data['team1_id'].map(team_clusters)\n",
        "# train_data['team2_cluster'] = train_data['team2_id'].map(team_clusters)\n"
      ]
    },
    {
      "cell_type": "code",
      "execution_count": 32,
      "metadata": {
        "id": "UWgOZg60FA56"
      },
      "outputs": [
        {
          "data": {
            "text/plain": [
              "Index(['match id', 'team1', 'team1_id', 'team1_roster_ids', 'team2',\n",
              "       'team2_id', 'team2_roster_ids', 'winner', 'winner_id', 'toss winner',\n",
              "       'toss decision', 'venue', 'city', 'match_dt', 'lighting', 'series_name',\n",
              "       'season', 'ground_id', 'team_count_50runs_last15', 'team_winp_last5',\n",
              "       'team1only_avg_runs_last15', 'team1_winp_team2_last15',\n",
              "       'ground_avg_runs_last15', 'winner_01', 'team1_strike_rate',\n",
              "       'team2_strike_rate', 'team1_bowler_eco', 'team2_bowler_eco',\n",
              "       'team1_avg_wicket', 'team2_avg_wicket', 'team1_batting_strength',\n",
              "       'team2_batting_strength', 'team1_form_factor', 'team2_form_factor',\n",
              "       'team1_win_percentage', 'team1_avg_score', 'team1_recent_win_rate',\n",
              "       'team1_average_winning_margin', 'team1_scoring_average',\n",
              "       'team1_wicket_loss_average', 'team2_recent_win_rate',\n",
              "       'team2_average_winning_margin', 'team2_scoring_average',\n",
              "       'team2_wicket_loss_average', 'venue_avg_runs', 'venue_win_rate',\n",
              "       'team1_night_match_win_rate', 'team2_night_match_win_rate',\n",
              "       'team1_day_match_win_rate', 'team2_day_match_win_rate',\n",
              "       'team1_day_night_match_win_rate', 'team2_day_night_match_win_rate',\n",
              "       'team1_toss_advantage', 'team2_toss_advantage',\n",
              "       'team1_adjusted_win_rate_at_venue', 'team2_adjusted_win_rate_at_venue',\n",
              "       'team1_toss_strategy_at_venue', 'team2_toss_strategy_at_venue',\n",
              "       'team1_overall_win_rate', 'team2_overall_win_rate', 'team1_recent_form',\n",
              "       'team2_recent_form', 'team1_head_to_head_win_rate',\n",
              "       'batsman_performance_index', 'team1_batsman_performance_index',\n",
              "       'team2_batsman_performance_index', 'team1_bowler_impact_score',\n",
              "       'team2_bowler_impact_score', 'team1_adjusted_venue_win_rate',\n",
              "       'team2_adjusted_venue_win_rate', 'average_score_at_venue',\n",
              "       'team1_win_rate_at_venue', 'team2_win_rate_at_venue',\n",
              "       'team1_scoring_consistency', 'team2_scoring_consistency',\n",
              "       'team1_wicket_loss_variance', 'team2_wicket_loss_variance',\n",
              "       'team1_momentum', 'team2_momentum'],\n",
              "      dtype='object')"
            ]
          },
          "execution_count": 32,
          "metadata": {},
          "output_type": "execute_result"
        }
      ],
      "source": [
        "train_data.columns"
      ]
    },
    {
      "cell_type": "code",
      "execution_count": 33,
      "metadata": {
        "id": "XHmm3IFKEwIj"
      },
      "outputs": [],
      "source": [
        "def win_rate_against_recent_form(team_id, venue_id, date, match_lvl_data, n=5):  # ( WRONG IMPLEMENTATION )\n",
        "    # Filter relevant matches\n",
        "    relevant_matches = match_lvl_data[(match_lvl_data['venue'] == venue_id) &\n",
        "                                      ((match_lvl_data['team1_id'] == team_id) | (match_lvl_data['team2_id'] == team_id)) &\n",
        "                                      (match_lvl_data['match_dt'] < date)]\n",
        "\n",
        "    # Calculate opponent's recent form\n",
        "    relevant_matches['opponent_id'] = relevant_matches.apply(lambda x: x['team1_id'] if x['team2_id'] == team_id else x['team2_id'], axis=1)\n",
        "    recent_forms = {}\n",
        "    for opponent in relevant_matches['opponent_id'].unique():\n",
        "        opponent_matches = match_lvl_data[(match_lvl_data['team1_id'] == opponent) | (match_lvl_data['team2_id'] == opponent)]\n",
        "        recent_wins = opponent_matches.tail(n)['winner'].apply(lambda x: 1 if x == opponent else 0).sum()\n",
        "        recent_forms[opponent] = recent_wins / n\n",
        "\n",
        "    relevant_matches['opponent_form'] = relevant_matches['opponent_id'].map(recent_forms)\n",
        "    weighted_wins = (relevant_matches['winner'].apply(lambda x: 1 if x == team_id else 0) * relevant_matches['opponent_form']).sum()\n",
        "    win_rate = weighted_wins / relevant_matches['opponent_form'].sum() if relevant_matches['opponent_form'].sum() > 0 else 0\n",
        "    return win_rate\n",
        "\n",
        "train_data['team1_win_rate_against_form'] = train_data.apply(\n",
        "    lambda x: win_rate_against_recent_form(x['team1_id'], x['venue'], x['match_dt'], match_lvl_data),\n",
        "    axis=1\n",
        ")\n",
        "train_data['team2_win_rate_against_form'] = train_data.apply(\n",
        "    lambda x: win_rate_against_recent_form(x['team2_id'], x['venue'], x['match_dt'], match_lvl_data),\n",
        "    axis=1\n",
        ")\n"
      ]
    },
    {
      "cell_type": "code",
      "execution_count": 34,
      "metadata": {
        "id": "-1tbxLjgGBjC"
      },
      "outputs": [],
      "source": [
        "def adjusted_win_rate_at_venue(match_lvl_data, team_id, venue, match_dt):\n",
        "    # Filter matches for the team at this venue before this date\n",
        "    relevant_matches = match_lvl_data[(match_lvl_data['venue'] == venue) &\n",
        "                                      ((match_lvl_data['team1_id'] == team_id) | (match_lvl_data['team2_id'] == team_id)) &\n",
        "                                      (match_lvl_data['match_dt'] < match_dt)]\n",
        "    opponent_strengths = relevant_matches.apply(\n",
        "        lambda x: overall_historical_win_rate(match_lvl_data, x['team2_id'] if x['team1_id'] == team_id else x['team1_id'], x['match_dt']),\n",
        "        axis=1\n",
        "    )\n",
        "    wins = (relevant_matches['winner_id'].apply(lambda x: 1 if x == team_id else 0) * opponent_strengths).sum()\n",
        "    return wins / opponent_strengths.sum() if opponent_strengths.sum() > 0 else 0\n",
        "\n",
        "train_data['team1_adjusted_win_rate_at_venue'] = train_data.apply(\n",
        "    lambda x: adjusted_win_rate_at_venue(match_lvl_data, x['team1_id'], x['venue'], x['match_dt']),\n",
        "    axis=1\n",
        ")\n",
        "train_data['team2_adjusted_win_rate_at_venue'] = train_data.apply(\n",
        "    lambda x: adjusted_win_rate_at_venue(match_lvl_data, x['team2_id'], x['venue'], x['match_dt']),\n",
        "    axis=1\n",
        ")\n"
      ]
    },
    {
      "cell_type": "code",
      "execution_count": 35,
      "metadata": {
        "id": "qX9-mVBcHE3R"
      },
      "outputs": [],
      "source": [
        "def performance_after_loss(match_lvl_data, team_id, match_dt):\n",
        "    past_matches = match_lvl_data[((match_lvl_data['team1_id'] == team_id) | (match_lvl_data['team2_id'] == team_id)) &\n",
        "                                  (match_lvl_data['match_dt'] < match_dt)].sort_values(by='match_dt', ascending=False)\n",
        "    if not past_matches.empty and past_matches.iloc[0]['winner_id'] != team_id:\n",
        "        # Find next match result\n",
        "        if past_matches.shape[0] > 1:\n",
        "            return 1 if past_matches.iloc[1]['winner_id'] == team_id else 0\n",
        "    return None  # Not applicable if no match after a loss\n",
        "\n",
        "train_data['team1_post_loss_performance'] = train_data.apply(\n",
        "    lambda x: performance_after_loss(match_lvl_data, x['team1_id'], x['match_dt']),\n",
        "    axis=1\n",
        ")\n",
        "train_data['team2_post_loss_performance'] = train_data.apply(\n",
        "    lambda x: performance_after_loss(match_lvl_data, x['team2_id'], x['match_dt']),\n",
        "    axis=1\n",
        ")\n"
      ]
    },
    {
      "cell_type": "code",
      "execution_count": 36,
      "metadata": {
        "id": "888RzuC3HO4m"
      },
      "outputs": [],
      "source": [
        "def scoring_variance_at_venue(match_lvl_data, team_id, venue, match_dt):\n",
        "    scores = match_lvl_data[((match_lvl_data['venue'] == venue) &\n",
        "                             ((match_lvl_data['team1_id'] == team_id) | (match_lvl_data['team2_id'] == team_id)) &\n",
        "                             (match_lvl_data['match_dt'] < match_dt))].apply(\n",
        "        lambda x: x['inning1_runs'] if x['team1_id'] == team_id else x['inning2_runs'],\n",
        "        axis=1\n",
        "    )\n",
        "    if len(scores) > 1:\n",
        "        return np.var(scores)\n",
        "    return None  # Not applicable if fewer than 2 scores\n",
        "\n",
        "train_data['team1_scoring_variance_at_venue'] = train_data.apply(\n",
        "    lambda x: scoring_variance_at_venue(match_lvl_data, x['team1_id'], x['venue'], x['match_dt']),\n",
        "    axis=1\n",
        ")\n",
        "train_data['team2_scoring_variance_at_venue'] = train_data.apply(\n",
        "    lambda x: scoring_variance_at_venue(match_lvl_data, x['team2_id'], x['venue'], x['match_dt']),\n",
        "    axis=1\n",
        ")\n"
      ]
    },
    {
      "cell_type": "code",
      "execution_count": 37,
      "metadata": {
        "id": "NmP-0KG7JB4x"
      },
      "outputs": [],
      "source": [
        "# def player_impact_score(player_roster, match_lvl_data, date, n):\n",
        "#     player_ids = player_roster.split(':')  # Splitting player IDs\n",
        "#     total_impact_score = 0\n",
        "\n",
        "#     for player_id in player_ids:\n",
        "#         # Fetch the last n matches before the given date for each player\n",
        "#         player_matches = match_lvl_data[(match_lvl_data['player_id'] == player_id) &\n",
        "#                                         (match_lvl_data['date'] < date)].sort_values('date', ascending=False).head(n)\n",
        "#         if not player_matches.empty:\n",
        "#             # Summing up an example impact score, could be runs, wickets, etc.\n",
        "#             impact_score = player_matches['impact_metric'].sum()  # Assuming 'impact_metric' is a column\n",
        "#             total_impact_score += impact_score\n",
        "\n",
        "#     return total_impact_score\n",
        "\n",
        "# # Apply to DataFrame\n",
        "# train_data['team1_impact_score'] = train_data.apply(\n",
        "#     lambda x: player_impact_score(x['team1_roster_ids'], match_lvl_data, x['match_dt'], 10), axis=1)\n",
        "# train_data['team2_impact_score'] = train_data.apply(\n",
        "#     lambda x: player_impact_score(x['team2_roster_ids'], match_lvl_data, x['match_dt'], 10), axis=1)\n"
      ]
    },
    {
      "cell_type": "code",
      "execution_count": 38,
      "metadata": {
        "id": "vxYmZ_abJUE1"
      },
      "outputs": [],
      "source": [
        "# def player_impact_score(player_ids, match_lvl_data, date, n):\n",
        "#     player_ids = player_ids.split(':')\n",
        "#     total_impact_score = 0\n",
        "\n",
        "#     for player_id in player_ids:\n",
        "#         player_matches = match_lvl_data[(match_lvl_data['match_dt'] < date) &\n",
        "#                                         (match_lvl_data['player_id'] == player_id)].sort_values(by='date', ascending=False).head(n)\n",
        "#         if not player_matches.empty:\n",
        "#             # Example calculation, modify based on your criteria\n",
        "#             impact_score = player_matches['impact_score'].sum()\n",
        "#             total_impact_score += impact_score\n",
        "\n",
        "#     return total_impact_score\n",
        "\n",
        "# train_data['team1_impact_score'] = train_data.progress_apply(\n",
        "#     lambda x: player_impact_score(x['team1_roster_ids'], match_lvl_data, x['match_dt'], 10), axis=1)\n",
        "# train_data['team2_impact_score'] = train_data.progress_apply(\n",
        "#     lambda x: player_impact_score(x['team2_roster_ids'], match_lvl_data, x['match_dt'], 10), axis=1)\n"
      ]
    },
    {
      "cell_type": "code",
      "execution_count": 39,
      "metadata": {
        "id": "zRsYwkwNiUPw"
      },
      "outputs": [],
      "source": [
        "def player_impact_score(player_roster, batsman_data, bowler_data, date, n):  # ( WRONG IMPLEMENTATION )\n",
        "    player_ids = player_roster.split(':')\n",
        "    total_impact_score = 0\n",
        "\n",
        "    for player_id in player_ids:\n",
        "        batsman_matches = batsman_data[(batsman_data['batsman_id'] == player_id) &\n",
        "                                       (batsman_data['match_dt'] < date)].sort_values('match_dt', ascending=False).head(n)\n",
        "        bowler_matches = bowler_data[(bowler_data['bowler_id'] == player_id) &\n",
        "                                     (bowler_data['match_dt'] < date)].sort_values('match_dt', ascending=False).head(n)\n",
        "\n",
        "        batsman_score = batsman_matches['runs'].sum()  # Example metric\n",
        "        bowler_score = bowler_matches['wicket_count'].sum()  # Example metric\n",
        "        total_impact_score += (batsman_score + bowler_score)\n",
        "\n",
        "    return total_impact_score  # Ensures a single scalar is returned\n",
        "\n",
        "def player_form_factor(player_roster, batsman_data, date, n):    # ( WRONG IMPLEMENTATION )\n",
        "    player_ids = player_roster.split(':')\n",
        "    total_form_factor = 0\n",
        "    players_counted = 0\n",
        "\n",
        "    for player_id in player_ids:\n",
        "        player_matches = batsman_data[(batsman_data['batsman_id'] == player_id) &\n",
        "                                      (batsman_data['match_dt'] < date)].sort_values('match_dt', ascending=False).head(n)\n",
        "        if not player_matches.empty:\n",
        "            runs_scored = player_matches['runs'].sum()\n",
        "            balls_faced = player_matches['balls_faced'].sum()\n",
        "            strike_rate = (runs_scored / balls_faced * 100) if balls_faced else 0\n",
        "            total_form_factor += strike_rate\n",
        "            players_counted += 1\n",
        "\n",
        "    return total_form_factor / players_counted if players_counted else 0\n"
      ]
    },
    {
      "cell_type": "code",
      "execution_count": 40,
      "metadata": {
        "id": "Nd40P5JYibxg"
      },
      "outputs": [],
      "source": [
        "train_data['team1_impact_score'] = train_data.apply(\n",
        "    lambda x: player_impact_score(x['team1_roster_ids'], batsman_lvl_data, bowler_lvl_data, x['match_dt'], 10), axis=1)\n",
        "train_data['team2_impact_score'] = train_data.apply(\n",
        "    lambda x: player_impact_score(x['team2_roster_ids'], batsman_lvl_data, bowler_lvl_data, x['match_dt'], 10), axis=1)\n",
        "\n",
        "train_data['team1_form_factor'] = train_data.apply(\n",
        "    lambda x: player_form_factor(x['team1_roster_ids'], batsman_lvl_data, x['match_dt'], 15), axis=1)\n",
        "train_data['team2_form_factor'] = train_data.apply(\n",
        "    lambda x: player_form_factor(x['team2_roster_ids'], batsman_lvl_data, x['match_dt'], 15), axis=1)\n",
        "\n",
        "# Repeat for test_data if needed\n"
      ]
    },
    {
      "cell_type": "code",
      "execution_count": 41,
      "metadata": {
        "id": "4S_0VxPAkzBC"
      },
      "outputs": [],
      "source": [
        "def historical_matchup(team1_id, team2_id, match_dt, match_lvl_data):\n",
        "    matchups = match_lvl_data[((match_lvl_data['team1_id'] == team1_id) & (match_lvl_data['team2_id'] == team2_id) |\n",
        "                              (match_lvl_data['team1_id'] == team2_id) & (match_lvl_data['team2_id'] == team1_id)) &\n",
        "                              (match_lvl_data['match_dt'] < match_dt)]\n",
        "    wins = matchups['winner_id'].apply(lambda winner_id: 1 if winner_id == team1_id else 0).sum()\n",
        "    total_matches = len(matchups)\n",
        "    return wins / total_matches if total_matches > 0 else 0\n",
        "\n",
        "train_data['team1_historical_matchup_win_pct'] = train_data.apply(\n",
        "    lambda x: historical_matchup(x['team1_id'], x['team2_id'], x['match_dt'], match_lvl_data),\n",
        "    axis=1)\n"
      ]
    },
    {
      "cell_type": "code",
      "execution_count": 42,
      "metadata": {
        "id": "UoAwBEC5loCR"
      },
      "outputs": [],
      "source": [
        "def recent_team_form(team_id, match_dt, match_lvl_data, last_n=5):\n",
        "    recent_matches = match_lvl_data[((match_lvl_data['team1_id'] == team_id) | (match_lvl_data['team2_id'] == team_id)) &\n",
        "                                    (match_lvl_data['match_dt'] < match_dt)].sort_values('match_dt', ascending=False).head(last_n)\n",
        "    wins = recent_matches['winner_id'].apply(lambda winner_id: 1 if winner_id == team_id else 0).sum()\n",
        "    return wins / last_n if last_n > 0 else 0\n",
        "\n",
        "train_data['team1_recent_form'] = train_data.apply(\n",
        "    lambda x: recent_team_form(x['team1_id'], x['match_dt'], match_lvl_data),\n",
        "    axis=1)\n",
        "train_data['team2_recent_form'] = train_data.apply(\n",
        "    lambda x: recent_team_form(x['team2_id'], x['match_dt'], match_lvl_data),\n",
        "    axis=1)\n"
      ]
    },
    {
      "cell_type": "code",
      "execution_count": 43,
      "metadata": {
        "id": "wJWWaiMcl21w"
      },
      "outputs": [],
      "source": [
        "def venue_winning_percentage(team_id, venue_id, match_dt, match_lvl_data):\n",
        "    historical_matches = match_lvl_data[(match_lvl_data['ground_id'] == venue_id) &\n",
        "                                        ((match_lvl_data['team1_id'] == team_id) | (match_lvl_data['team2_id'] == team_id)) &\n",
        "                                        (match_lvl_data['match_dt'] < match_dt)]\n",
        "    total_matches = len(historical_matches)\n",
        "    wins = len(historical_matches[historical_matches['winner_id'] == team_id])\n",
        "    return wins / total_matches if total_matches > 0 else 0\n",
        "\n",
        "train_data['team1_venue_win_pct'] = train_data.apply(\n",
        "    lambda x: venue_winning_percentage(x['team1_id'], x['venue'], x['match_dt'], match_lvl_data),\n",
        "    axis=1)\n",
        "train_data['team2_venue_win_pct'] = train_data.apply(\n",
        "    lambda x: venue_winning_percentage(x['team2_id'], x['venue'], x['match_dt'], match_lvl_data),\n",
        "    axis=1)\n"
      ]
    },
    {
      "cell_type": "code",
      "execution_count": 44,
      "metadata": {
        "id": "KdNRl8xVmipU"
      },
      "outputs": [],
      "source": [
        "def team_win_rate_under_condition(team_id, condition_col, condition_val, date, match_lvl_data):\n",
        "    # Filter matches based on the given condition up to the specified date\n",
        "    relevant_matches = match_lvl_data[(match_lvl_data[condition_col] == condition_val) &\n",
        "                                      ((match_lvl_data['team1_id'] == team_id) | (match_lvl_data['team2_id'] == team_id)) &\n",
        "                                      (match_lvl_data['match_dt'] < date)]\n",
        "    wins = relevant_matches['winner_id'].apply(lambda x: 1 if x == team_id else 0).sum()\n",
        "    win_rate = wins / len(relevant_matches) if len(relevant_matches) > 0 else 0\n",
        "    return win_rate\n",
        "\n",
        "# Example usage: Calculate team win rate for 'day' lighting condition\n",
        "train_data['team1_day_light_win_rate'] = train_data.apply(\n",
        "    lambda x: team_win_rate_under_condition(x['team1_id'], 'lighting', 'day', x['match_dt'], match_lvl_data),\n",
        "    axis=1)\n",
        "train_data['team2_day_light_win_rate'] = train_data.apply(\n",
        "    lambda x: team_win_rate_under_condition(x['team2_id'], 'lighting', 'day', x['match_dt'], match_lvl_data),\n",
        "    axis=1)\n"
      ]
    },
    {
      "cell_type": "code",
      "execution_count": 45,
      "metadata": {
        "id": "biMofLiomnpo"
      },
      "outputs": [],
      "source": [
        "def team_venue_scoring(team_id, venue_id, date, match_lvl_data):  # ( WRONG IMPLEMENTATION )\n",
        "    matches_at_venue = match_lvl_data[(match_lvl_data['ground_id'] == venue_id) &\n",
        "                                      ((match_lvl_data['team1_id'] == team_id) | (match_lvl_data['team2_id'] == team_id)) &\n",
        "                                      (match_lvl_data['match_dt'] < date)]\n",
        "    total_runs_scored = matches_at_venue.apply(lambda x: x['inning1_runs'] if x['team1_id'] == team_id else x['inning2_runs'], axis=1).sum()\n",
        "    total_runs_conceded = matches_at_venue.apply(lambda x: x['inning2_runs'] if x['team1_id'] == team_id else x['inning1_runs'], axis=1).sum()\n",
        "    matches_count = len(matches_at_venue)\n",
        "    avg_runs_scored = total_runs_scored / matches_count if matches_count > 0 else 0\n",
        "    avg_runs_conceded = total_runs_conceded / matches_count if matches_count > 0 else 0\n",
        "    return avg_runs_scored, avg_runs_conceded\n",
        "\n",
        "train_data['team1_avg_runs_scored_at_venue'], train_data['team1_avg_runs_conceded_at_venue'] = zip(*train_data.apply(\n",
        "    lambda x: team_venue_scoring(x['team1_id'], x['venue'], x['match_dt'], match_lvl_data),\n",
        "    axis=1))\n",
        "train_data['team2_avg_runs_scored_at_venue'], train_data['team2_avg_runs_conceded_at_venue'] = zip(*train_data.apply(\n",
        "    lambda x: team_venue_scoring(x['team2_id'], x['venue'], x['match_dt'], match_lvl_data),\n",
        "    axis=1))\n"
      ]
    },
    {
      "cell_type": "code",
      "execution_count": 46,
      "metadata": {
        "id": "x40gkRaInphX"
      },
      "outputs": [],
      "source": [
        "def adjusted_venue_win_rate(team_id, venue_id, date, match_lvl_data):\n",
        "    relevant_matches = match_lvl_data[\n",
        "        (match_lvl_data['ground_id'] == venue_id) &\n",
        "        ((match_lvl_data['team1_id'] == team_id) | (match_lvl_data['team2_id'] == team_id)) &\n",
        "        (match_lvl_data['match_dt'] < date)\n",
        "    ]\n",
        "\n",
        "    # Calculate wins considering toss and lighting as factors\n",
        "    if not relevant_matches.empty:\n",
        "        wins = relevant_matches.apply(\n",
        "            lambda x: 1 if (x['winner_id'] == team_id and x['toss_winner'] == team_id and x['lighting'] == 'day') else 0, axis=1\n",
        "        ).sum()\n",
        "        total_matches = len(relevant_matches)\n",
        "        win_rate = wins / total_matches if total_matches > 0 else 0\n",
        "        return win_rate\n",
        "    return 0\n",
        "\n",
        "# Applying the feature to the DataFrame\n",
        "train_data['team1_adjusted_venue_win_rate'] = train_data.apply(\n",
        "    lambda x: adjusted_venue_win_rate(x['team1_id'], x['venue'], x['match_dt'], match_lvl_data),\n",
        "    axis=1\n",
        ")\n",
        "train_data['team2_adjusted_venue_win_rate'] = train_data.apply(\n",
        "    lambda x: adjusted_venue_win_rate(x['team2_id'], x['venue'], x['match_dt'], match_lvl_data),\n",
        "    axis=1\n",
        ")\n"
      ]
    },
    {
      "cell_type": "code",
      "execution_count": 47,
      "metadata": {
        "id": "DZ_YcPH0oRhT"
      },
      "outputs": [],
      "source": [
        "def historical_matchup_at_venue(team1_id, team2_id, venue_id, date, match_lvl_data):\n",
        "    head_to_head_matches = match_lvl_data[\n",
        "        ((match_lvl_data['team1_id'] == team1_id) & (match_lvl_data['team2_id'] == team2_id) |\n",
        "         (match_lvl_data['team1_id'] == team2_id) & (match_lvl_data['team2_id'] == team1_id)) &\n",
        "        (match_lvl_data['ground_id'] == venue_id) &\n",
        "        (match_lvl_data['match_dt'] < date)\n",
        "    ]\n",
        "\n",
        "    if not head_to_head_matches.empty:\n",
        "        wins = head_to_head_matches['winner_id'].apply(lambda x: 1 if x == team1_id else 0).sum()\n",
        "        total_matches = len(head_to_head_matches)\n",
        "        return wins / total_matches if total_matches > 0 else 0\n",
        "    return 0\n",
        "\n",
        "train_data['team1_head_to_head_venue_win_rate'] = train_data.apply(\n",
        "    lambda x: historical_matchup_at_venue(x['team1_id'], x['team2_id'], x['venue'], x['match_dt'], match_lvl_data),\n",
        "    axis=1\n",
        ")\n"
      ]
    },
    {
      "cell_type": "code",
      "execution_count": 48,
      "metadata": {
        "id": "ou68fVvlqpBf"
      },
      "outputs": [],
      "source": [
        "def head_to_head_win_rate(team1_id, team2_id, match_lvl_data):\n",
        "    team1_matches = match_lvl_data[(match_lvl_data['team1_id'] == team1_id) & (match_lvl_data['team2_id'] == team2_id)]\n",
        "    team2_matches = match_lvl_data[(match_lvl_data['team1_id'] == team2_id) & (match_lvl_data['team2_id'] == team1_id)]\n",
        "    total_matches = pd.concat([team1_matches, team2_matches])\n",
        "    team1_wins = total_matches[total_matches['winner'] == team1_id].shape[0]\n",
        "    total_matches_played = total_matches.shape[0]\n",
        "    if total_matches_played > 0:\n",
        "        return team1_wins / total_matches_played\n",
        "    else:\n",
        "        return 0\n",
        "def toss_win_advantage(team_id, match_lvl_data):\n",
        "    team_toss_wins = match_lvl_data[(match_lvl_data['toss winner'] == team_id) & (match_lvl_data['winner'] == team_id)]\n",
        "    team_toss_losses = match_lvl_data[(match_lvl_data['toss winner'] == team_id) & (match_lvl_data['winner'] != team_id)]\n",
        "    total_toss_wins = team_toss_wins.shape[0] + team_toss_losses.shape[0]\n",
        "    if total_toss_wins > 0:\n",
        "        return team_toss_wins.shape[0] / total_toss_wins\n",
        "    else:\n",
        "        return 0\n",
        "def batting_order_advantage(team_id, match_lvl_data):\n",
        "    team_wins_batting_first = match_lvl_data[(match_lvl_data['toss decision'] == 'bat') & (match_lvl_data['toss winner'] == team_id) & (match_lvl_data['winner'] == team_id)]\n",
        "    team_wins_batting_second = match_lvl_data[(match_lvl_data['toss decision'] == 'field') & (match_lvl_data['toss winner'] == team_id) & (match_lvl_data['winner'] == team_id)]\n",
        "    total_wins = team_wins_batting_first.shape[0] + team_wins_batting_second.shape[0]\n",
        "    if total_wins > 0:\n",
        "        return team_wins_batting_first.shape[0] / total_wins\n",
        "    else:\n",
        "        return 0\n",
        "def avg_runs_conceded(team_id, match_lvl_data, batsman_lvl_data, bowler_lvl_data):\n",
        "    team_matches = match_lvl_data[match_lvl_data['team1_id'] == team_id]\n",
        "    team_bowlers = []\n",
        "    for roster_ids in team_matches['team1_roster_ids']:\n",
        "        team_bowlers.extend(roster_ids.split(','))\n",
        "    team_bowlers = list(set(team_bowlers))\n",
        "    runs_conceded = batsman_lvl_data[batsman_lvl_data['out_by_bowler'].isin(team_bowlers)]['runs'].sum()\n",
        "    balls_bowled = bowler_lvl_data[bowler_lvl_data['bowler_id'].isin(team_bowlers)]['balls_bowled'].sum()\n",
        "    if balls_bowled > 0:\n",
        "        return runs_conceded / balls_bowled\n",
        "    else:\n",
        "        return 0\n",
        "\n",
        "def avg_batting_strike_rate(team_id, match_lvl_data, batsman_lvl_data):\n",
        "    team_matches = match_lvl_data[match_lvl_data['team1_id'] == team_id]\n",
        "    team_batsmen = []\n",
        "    for roster_ids in team_matches['team1_roster_ids']:\n",
        "        team_batsmen.extend(roster_ids.split(','))\n",
        "    team_batsmen = list(set(team_batsmen))\n",
        "    total_runs = batsman_lvl_data[batsman_lvl_data['batsman_id'].isin(team_batsmen)]['runs'].sum()\n",
        "    total_balls_faced = batsman_lvl_data[batsman_lvl_data['batsman_id'].isin(team_batsmen)]['balls_faced'].sum()\n",
        "    if total_balls_faced > 0:\n",
        "        return total_runs / total_balls_faced * 100\n",
        "    else:\n",
        "        return 0\n"
      ]
    },
    {
      "cell_type": "code",
      "execution_count": 49,
      "metadata": {
        "id": "E1yIkciLrwMA"
      },
      "outputs": [],
      "source": [
        "# Head-to-Head Win Rate\n",
        "train_data['team1_head_to_head_win_rate'] = train_data.apply(lambda x: head_to_head_win_rate(x['team1_id'], x['team2_id'], match_lvl_data), axis=1)\n",
        "train_data['team2_head_to_head_win_rate'] = train_data.apply(lambda x: head_to_head_win_rate(x['team2_id'], x['team1_id'], match_lvl_data), axis=1)\n",
        "\n",
        "# Toss Win Advantage\n",
        "train_data['team1_toss_win_advantage'] = train_data.apply(lambda x: toss_win_advantage(x['team1_id'], match_lvl_data), axis=1)\n",
        "train_data['team2_toss_win_advantage'] = train_data.apply(lambda x: toss_win_advantage(x['team2_id'], match_lvl_data), axis=1)\n",
        "\n",
        "# Batting Order Advantage\n",
        "train_data['team1_batting_first_advantage'] = train_data.apply(lambda x: batting_order_advantage(x['team1_id'], match_lvl_data), axis=1)\n",
        "train_data['team2_batting_first_advantage'] = train_data.apply(lambda x: batting_order_advantage(x['team2_id'], match_lvl_data), axis=1)\n",
        "\n",
        "# Average Runs Conceded\n",
        "train_data['team1_avg_runs_conceded'] = train_data.apply(lambda x: avg_runs_conceded(x['team1_id'], match_lvl_data, batsman_lvl_data, bowler_lvl_data), axis=1)\n",
        "train_data['team2_avg_runs_conceded'] = train_data.apply(lambda x: avg_runs_conceded(x['team2_id'], match_lvl_data, batsman_lvl_data, bowler_lvl_data), axis=1)\n",
        "\n",
        "# Average Batting Strike Rate\n",
        "train_data['team1_avg_batting_strike_rate'] = train_data.apply(lambda x: avg_batting_strike_rate(x['team1_id'], match_lvl_data, batsman_lvl_data), axis=1)\n",
        "train_data['team2_avg_batting_strike_rate'] = train_data.apply(lambda x: avg_batting_strike_rate(x['team2_id'], match_lvl_data, batsman_lvl_data), axis=1)"
      ]
    },
    {
      "cell_type": "code",
      "execution_count": 51,
      "metadata": {
        "id": "ihfVhFMMk3IH"
      },
      "outputs": [],
      "source": [
        "# train_data['team2_recent_mom_count_10matches'].unique()"
      ]
    },
    {
      "cell_type": "code",
      "execution_count": 52,
      "metadata": {
        "id": "2WLjEEi5ixBg"
      },
      "outputs": [],
      "source": [
        "match_lvl_data['player_of_the_match_id'] = match_lvl_data['player_of_the_match_id'].astype(str)\n"
      ]
    },
    {
      "cell_type": "code",
      "execution_count": 53,
      "metadata": {
        "id": "7GwdgKkdlmym"
      },
      "outputs": [],
      "source": [
        "import numpy as np\n",
        "\n",
        "def count_recent_mom_awards(team_roster, match_lvl_data, date, n):\n",
        "    '''\n",
        "    Function to get the total number of Man of the Match awards won by players in the roster of a team in the last n games.\n",
        "\n",
        "    Input-\n",
        "    1. team_roster: ':' separated list of player ids in the roster of a team.\n",
        "    2. match_lvl_data: DataFrame containing match level data.\n",
        "    3. date: match date to calculate this feature before.\n",
        "    4. n: Number of games to look-back and create this feature.\n",
        "\n",
        "    Returns-\n",
        "    int value denoting the sum of MoM awards won by all players in the roster.\n",
        "    '''\n",
        "\n",
        "    player_ids = str(team_roster).split(':')  # Split string of ':' separated ids into a list of ids\n",
        "    total_mom_awards = 0\n",
        "\n",
        "    for player_id in player_ids:  # Loop over each player_id in roster\n",
        "        # Get relevant matches for the player up to the specified date\n",
        "        player_matches = match_lvl_data[(match_lvl_data['player_of_the_match_id'] == player_id) &\n",
        "                                        (match_lvl_data['match_dt'] < date)].sort_values('match_dt', ascending=False).head(n)\n",
        "\n",
        "        # Count the number of matches where this player was MoM\n",
        "        mom_count = len(player_matches)\n",
        "        total_mom_awards += mom_count  # Accumulate MoM awards\n",
        "\n",
        "    return total_mom_awards\n",
        "\n",
        "# Applying the function to train_data for an example usage\n",
        "train_data['team1_recent_mom_count'] = train_data.apply(\n",
        "    lambda x: count_recent_mom_awards(x['team1_roster_ids'], match_lvl_data, x['match_dt'], 15), axis=1)\n",
        "train_data['team2_recent_mom_count'] = train_data.apply(\n",
        "    lambda x: count_recent_mom_awards(x['team2_roster_ids'], match_lvl_data, x['match_dt'], 15), axis=1)\n"
      ]
    },
    {
      "cell_type": "code",
      "execution_count": 54,
      "metadata": {
        "id": "xIsFt6Kre2IP"
      },
      "outputs": [
        {
          "data": {
            "text/plain": [
              "0       0\n",
              "1      15\n",
              "2      35\n",
              "3      27\n",
              "4      24\n",
              "       ..\n",
              "943    14\n",
              "944    18\n",
              "945     3\n",
              "946    21\n",
              "947     3\n",
              "Name: team2_recent_mom_count, Length: 948, dtype: int64"
            ]
          },
          "execution_count": 54,
          "metadata": {},
          "output_type": "execute_result"
        }
      ],
      "source": [
        "train_data['team2_recent_mom_count']"
      ]
    },
    {
      "cell_type": "code",
      "execution_count": 55,
      "metadata": {
        "id": "2XvOy5Vsbll0"
      },
      "outputs": [
        {
          "name": "stdout",
          "output_type": "stream",
          "text": [
            "Index(['match id', 'team1', 'team2', 'winner', 'by', 'win amount',\n",
            "       'toss winner', 'toss decision', 'venue', 'city', 'match_dt', 'lighting',\n",
            "       'series_name', 'season', 'ground_id', 'umpire1', 'umpire2',\n",
            "       'inning1_runs', 'inning1_wickets', 'inning1_balls', 'inning2_runs',\n",
            "       'inning2_wickets', 'inning2_balls', 'team1_id', 'team1_roster_ids',\n",
            "       'team2_id', 'team2_roster_ids', 'series_type', 'winner_id',\n",
            "       'player_of_the_match_id'],\n",
            "      dtype='object')\n"
          ]
        }
      ],
      "source": [
        "print(match_lvl_data.columns)\n"
      ]
    },
    {
      "cell_type": "code",
      "execution_count": 56,
      "metadata": {
        "id": "4D-k8QU_aZr6"
      },
      "outputs": [],
      "source": [
        "def avg_runs_at_venue_by_conditions(ground_id, lighting, inning, match_lvl_data):\n",
        "    condition_matches = match_lvl_data[(match_lvl_data['ground_id'] == ground_id) &\n",
        "                                       (match_lvl_data['lighting'] == lighting)]\n",
        "    if inning == 1:\n",
        "        avg_runs = condition_matches['inning1_runs'].mean() if not condition_matches.empty else 0\n",
        "    else:\n",
        "        avg_runs = condition_matches['inning2_runs'].mean() if not condition_matches.empty else 0\n",
        "    return avg_runs\n",
        "\n",
        "# Applying this feature for each lighting condition and inning to train_data\n",
        "train_data['ground_avg_runs_inning1_day'] = train_data.apply(\n",
        "    lambda x: avg_runs_at_venue_by_conditions(x['ground_id'], 'day', 1, match_lvl_data), axis=1)\n",
        "train_data['ground_avg_runs_inning1_night'] = train_data.apply(\n",
        "    lambda x: avg_runs_at_venue_by_conditions(x['ground_id'], 'night', 1, match_lvl_data), axis=1)\n",
        "train_data['ground_avg_runs_inning1_day_night'] = train_data.apply(\n",
        "    lambda x: avg_runs_at_venue_by_conditions(x['ground_id'], 'day/night', 1, match_lvl_data), axis=1)\n",
        "\n",
        "train_data['ground_avg_runs_inning2_day'] = train_data.apply(\n",
        "    lambda x: avg_runs_at_venue_by_conditions(x['ground_id'], 'day', 2, match_lvl_data), axis=1)\n",
        "train_data['ground_avg_runs_inning2_night'] = train_data.apply(\n",
        "    lambda x: avg_runs_at_venue_by_conditions(x['ground_id'], 'night', 2, match_lvl_data), axis=1)\n",
        "train_data['ground_avg_runs_inning2_day_night'] = train_data.apply(\n",
        "    lambda x: avg_runs_at_venue_by_conditions(x['ground_id'], 'day/night', 2, match_lvl_data), axis=1)\n"
      ]
    },
    {
      "cell_type": "code",
      "execution_count": 57,
      "metadata": {
        "id": "Dtckz-hBaspq"
      },
      "outputs": [],
      "source": [
        "def average_margin_of_victory(team_id, match_lvl_data, date):\n",
        "    team_wins = match_lvl_data[(match_lvl_data['winner_id'] == team_id) &\n",
        "                               (match_lvl_data['match_dt'] < date)]\n",
        "    if team_wins.empty:\n",
        "        return 0\n",
        "    avg_runs_margin = team_wins[team_wins['by'] == 'runs']['win amount'].mean()\n",
        "    avg_wickets_margin = team_wins[team_wins['by'] == 'wickets']['win amount'].mean()\n",
        "    return {'avg_runs_margin': avg_runs_margin, 'avg_wickets_margin': avg_wickets_margin}\n",
        "\n",
        "# Applying this feature to train_data\n",
        "train_data['team1_dominance'] = train_data.apply(\n",
        "    lambda x: average_margin_of_victory(x['team1_id'], match_lvl_data, x['match_dt']), axis=1)\n",
        "train_data['team2_dominance'] = train_data.apply(\n",
        "    lambda x: average_margin_of_victory(x['team2_id'], match_lvl_data, x['match_dt']), axis=1)\n"
      ]
    },
    {
      "cell_type": "code",
      "execution_count": 59,
      "metadata": {
        "id": "nRdb2w-Wavri"
      },
      "outputs": [],
      "source": [
        "# train_data['team1_weighted_mom'][:10]"
      ]
    },
    {
      "cell_type": "code",
      "execution_count": 60,
      "metadata": {
        "id": "Smd56qnij0bL"
      },
      "outputs": [],
      "source": [
        "def weighted_mom_awards(team_roster, match_lvl_data, date, n):\n",
        "    player_ids = team_roster.split(':')\n",
        "    total_weighted_awards = 0\n",
        "\n",
        "    # Fetch recent matches up to 'n' for all players in the roster before the specified date\n",
        "    recent_matches = match_lvl_data[(match_lvl_data['player_of_the_match_id'].isin(player_ids)) &\n",
        "                                    (match_lvl_data['match_dt'] < date)].sort_values('match_dt', ascending=False).head(n)\n",
        "\n",
        "    # Assigning weights - newer matches get higher weight\n",
        "    for i, match in enumerate(recent_matches.itertuples(), 1):\n",
        "        weight = 1 + (n - i) * 0.1  # Example weight formula: 1 + (total_matches - position) * 0.1\n",
        "        total_weighted_awards += weight\n",
        "\n",
        "    return total_weighted_awards\n",
        "\n",
        "# Applying the feature to train_data\n",
        "train_data['team1_weighted_mom'] = train_data.apply(\n",
        "    lambda x: weighted_mom_awards(x['team1_roster_ids'], match_lvl_data, x['match_dt'], 22), axis=1)\n",
        "train_data['team2_weighted_mom'] = train_data.apply(\n",
        "    lambda x: weighted_mom_awards(x['team2_roster_ids'], match_lvl_data, x['match_dt'], 22), axis=1)\n"
      ]
    },
    {
      "cell_type": "code",
      "execution_count": 61,
      "metadata": {
        "id": "QR_Ghby8k1I4"
      },
      "outputs": [
        {
          "name": "stderr",
          "output_type": "stream",
          "text": [
            "100%|██████████| 948/948 [00:00<00:00, 1515.00it/s]\n",
            "100%|██████████| 948/948 [00:00<00:00, 1554.11it/s]\n"
          ]
        }
      ],
      "source": [
        "def winpLastn(team_id, date, n):\n",
        "    '''\n",
        "    Get a team's win % in last n games. If a team has won 3 game out of their last 5, win% is 60%.\n",
        "\n",
        "    Input-\n",
        "    1. team_id: ID of the team to get their last n games and winner information from those games.\n",
        "    2. date: match date from which to get last n historical games.\n",
        "    3. n: look-back window of games.\n",
        "\n",
        "    Output- None\n",
        "\n",
        "    Returns- Float value denoting win% of the team in last n games.\n",
        "    '''\n",
        "    # filter out games with either team1/2_id as input team id, match_dt being before current game's date, sort desc by date, and get top n rows (games)\n",
        "    df_rel = match_lvl_data[(match_lvl_data['match_dt']<date)&\\\n",
        "                      ((match_lvl_data['team1_id']==team_id)|(match_lvl_data['team2_id']==team_id))]\\\n",
        "                        .sort_values(by='match_dt', ascending=False).head(n)\n",
        "    win_count = df_rel[df_rel['winner_id']==team_id].shape[0] # count number of rows having winner as the input team\n",
        "    if win_count == 0:\n",
        "        return 0\n",
        "    return round(win_count*100/df_rel.shape[0], 2) # return win% rounded to two decimal points\n",
        "\n",
        "\n",
        "# In[21]:\n",
        "\n",
        "\n",
        "# Compute team1's win% in last 5 games\n",
        "train_data['team1_winp_last25'] = train_data.progress_apply(lambda x: \\\n",
        "                                  winpLastn(x['team1_id'], x['match_dt'], 25), axis=1)\n",
        "# Compute team2's win% in last 5 games\n",
        "train_data['team2_winp_last25'] = train_data.progress_apply(lambda x: \\\n",
        "                                  winpLastn(x['team2_id'], x['match_dt'], 25), axis=1)\n",
        "\n",
        "\n",
        "# In[22]:\n",
        "\n",
        "\n",
        "# Take the ratio of (team1's win% in their last 5 games)/(team2's win% in their last 5 games). Adding 1 to avoid divide by zero error\n",
        "# train_data['team_winp_last25'] = (train_data['team1_winp_last5']+1)/(train_data['team2_winp_last5']+1)\n",
        "# train_data.drop(columns=['team1_winp_last5', 'team2_winp_last5'], inplace=True) # drop intermediate columns\n",
        "\n"
      ]
    },
    {
      "cell_type": "code",
      "execution_count": 62,
      "metadata": {
        "id": "asfQiHg2l6zA"
      },
      "outputs": [
        {
          "data": {
            "text/plain": [
              "Index(['match id', 'team1', 'team2', 'winner', 'by', 'win amount',\n",
              "       'toss winner', 'toss decision', 'venue', 'city', 'match_dt', 'lighting',\n",
              "       'series_name', 'season', 'ground_id', 'umpire1', 'umpire2',\n",
              "       'inning1_runs', 'inning1_wickets', 'inning1_balls', 'inning2_runs',\n",
              "       'inning2_wickets', 'inning2_balls', 'team1_id', 'team1_roster_ids',\n",
              "       'team2_id', 'team2_roster_ids', 'series_type', 'winner_id',\n",
              "       'player_of_the_match_id'],\n",
              "      dtype='object')"
            ]
          },
          "execution_count": 62,
          "metadata": {},
          "output_type": "execute_result"
        }
      ],
      "source": [
        "match_lvl_data.columns"
      ]
    },
    {
      "cell_type": "code",
      "execution_count": 63,
      "metadata": {
        "id": "l3B7FsbPlrjc"
      },
      "outputs": [
        {
          "name": "stderr",
          "output_type": "stream",
          "text": [
            "/var/folders/z7/t3qmw89j637f4y58ls6cb_vh0000gn/T/ipykernel_73973/2661495206.py:13: PerformanceWarning: DataFrame is highly fragmented.  This is usually the result of calling `frame.insert` many times, which has poor performance.  Consider joining all columns at once using pd.concat(axis=1) instead. To get a de-fragmented frame, use `newframe = frame.copy()`\n",
            "  train_data['team1_h2h_win_rate'] = train_data.apply(\n"
          ]
        }
      ],
      "source": [
        "def head_to_head_win_rate(team1_id, team2_id, match_lvl_data, date):\n",
        "    head_to_head_matches = match_lvl_data[((match_lvl_data['team1_id'] == team1_id) & (match_lvl_data['team2_id'] == team2_id) |\n",
        "                                           (match_lvl_data['team1_id'] == team2_id) & (match_lvl_data['team2_id'] == team1_id)) &\n",
        "                                          (match_lvl_data['match_dt'] < date)]\n",
        "\n",
        "    if head_to_head_matches.empty:\n",
        "        return 0.5  # Neutral value if no historical matches\n",
        "\n",
        "    wins = head_to_head_matches['winner_id'].apply(lambda x: 1 if x == team1_id else 0).sum()\n",
        "    win_rate = wins / len(head_to_head_matches)\n",
        "    return win_rate\n",
        "\n",
        "train_data['team1_h2h_win_rate'] = train_data.apply(\n",
        "    lambda x: head_to_head_win_rate(x['team1_id'], x['team2_id'], match_lvl_data, x['match_dt']), axis=1)\n"
      ]
    },
    {
      "cell_type": "code",
      "execution_count": 64,
      "metadata": {
        "id": "HOLerLNMmkdF"
      },
      "outputs": [
        {
          "name": "stderr",
          "output_type": "stream",
          "text": [
            "/var/folders/z7/t3qmw89j637f4y58ls6cb_vh0000gn/T/ipykernel_73973/410150987.py:33: PerformanceWarning: DataFrame is highly fragmented.  This is usually the result of calling `frame.insert` many times, which has poor performance.  Consider joining all columns at once using pd.concat(axis=1) instead. To get a de-fragmented frame, use `newframe = frame.copy()`\n",
            "  train_data['team1_consistency_score'] = train_data.apply(\n",
            "/var/folders/z7/t3qmw89j637f4y58ls6cb_vh0000gn/T/ipykernel_73973/410150987.py:35: PerformanceWarning: DataFrame is highly fragmented.  This is usually the result of calling `frame.insert` many times, which has poor performance.  Consider joining all columns at once using pd.concat(axis=1) instead. To get a de-fragmented frame, use `newframe = frame.copy()`\n",
            "  train_data['team2_consistency_score'] = train_data.apply(\n"
          ]
        }
      ],
      "source": [
        "def team_consistency_score(team_roster, batsman_data, bowler_data, date, n):\n",
        "    player_ids = team_roster.split(':')\n",
        "    consistency_scores = []\n",
        "\n",
        "    for player_id in player_ids:\n",
        "        # Evaluate batting consistency\n",
        "        player_batting = batsman_data[(batsman_data['batsman_id'] == player_id) &\n",
        "                                      (batsman_data['match_dt'] < date)].sort_values('match_dt', ascending=False).head(n)\n",
        "        if not player_batting.empty:\n",
        "            avg_runs = player_batting['runs'].mean()\n",
        "            std_dev_runs = player_batting['runs'].std()\n",
        "            batting_consistency = avg_runs / std_dev_runs if std_dev_runs else avg_runs\n",
        "\n",
        "            consistency_scores.append(batting_consistency)\n",
        "\n",
        "        # Evaluate bowling consistency\n",
        "        player_bowling = bowler_data[(bowler_data['bowler_id'] == player_id) &\n",
        "                                     (bowler_data['match_dt'] < date)].sort_values('match_dt', ascending=False).head(n)\n",
        "        if not player_bowling.empty:\n",
        "            avg_wickets = player_bowling['wicket_count'].mean()\n",
        "            std_dev_wickets = player_bowling['wicket_count'].std()\n",
        "            bowling_consistency = avg_wickets / std_dev_wickets if std_dev_wickets else avg_wickets\n",
        "\n",
        "            consistency_scores.append(bowling_consistency)\n",
        "\n",
        "    if consistency_scores:\n",
        "        team_score = np.mean(consistency_scores)\n",
        "    else:\n",
        "        team_score = 0\n",
        "\n",
        "    return team_score\n",
        "\n",
        "train_data['team1_consistency_score'] = train_data.apply(\n",
        "    lambda x: team_consistency_score(x['team1_roster_ids'], batsman_lvl_data, bowler_lvl_data, x['match_dt'], 10), axis=1)\n",
        "train_data['team2_consistency_score'] = train_data.apply(\n",
        "    lambda x: team_consistency_score(x['team2_roster_ids'], batsman_lvl_data, bowler_lvl_data, x['match_dt'], 10), axis=1)"
      ]
    },
    {
      "cell_type": "code",
      "execution_count": 65,
      "metadata": {
        "id": "EXP6_HCPoDkI"
      },
      "outputs": [],
      "source": [
        "# def strategic_success_rate(team_id, match_lvl_data, date, n):\n",
        "#     recent_matches = match_lvl_data[(match_lvl_data['match_dt'] < date) &\n",
        "#                                     ((match_lvl_data['team1_id'] == team_id) | (match_lvl_data['team2_id'] == team_id))].sort_values('match_dt', ascending=False).head(n)\n",
        "\n",
        "#     successful_strategies = 0\n",
        "#     for match in recent_matches.itertuples():\n",
        "#         if ((match.toss winner == team_id and match.toss decision == 'bat' and match.winner_id == team_id and match.inning1_runs > match.inning2_runs) or\n",
        "#             (match.toss winner == team_id and match.toss decision == 'field' and match.winner_id == team_id and match.inning2_runs > match.inning1_runs)):\n",
        "#             successful_strategies += 1\n",
        "\n",
        "#     return successful_strategies / n if n else 0\n",
        "\n",
        "# train_data['team1_strategic_success_rate'] = train_data.apply(\n",
        "#     lambda x: strategic_success_rate(x['team1_id'], match_lvl_data, x['match_dt'], 10), axis=1)\n",
        "# train_data['team2_strategic_success_rate'] = train_data.apply(\n",
        "#     lambda x: strategic_success_rate(x['team2_id'], match_lvl_data, x['match_dt'], 10), axis=1)\n"
      ]
    },
    {
      "cell_type": "code",
      "execution_count": 66,
      "metadata": {
        "id": "pQMJQ4KunrsI"
      },
      "outputs": [],
      "source": [
        "# train_data['team2_consistency_score'].unique()"
      ]
    },
    {
      "cell_type": "code",
      "execution_count": 67,
      "metadata": {
        "id": "Ggvq5nOvBn-A"
      },
      "outputs": [
        {
          "data": {
            "text/plain": [
              "winner_01                           1.000000\n",
              "team2_recent_form                   0.105046\n",
              "team2_momentum                      0.083399\n",
              "team2_average_winning_margin        0.074013\n",
              "team2_day_match_win_rate            0.073309\n",
              "team2_overall_win_rate              0.072307\n",
              "team2_recent_win_rate               0.069638\n",
              "team2_winp_last25                   0.069452\n",
              "match id                            0.038028\n",
              "team2_win_rate_at_venue             0.034948\n",
              "team2_adjusted_win_rate_at_venue    0.025747\n",
              "team1_wicket_loss_average           0.020005\n",
              "team2_post_loss_performance         0.019303\n",
              "team1_day_match_win_rate            0.018755\n",
              "team2_bowler_impact_score           0.018734\n",
              "ground_id                           0.015227\n",
              "team2_night_match_win_rate          0.012764\n",
              "team2_avg_wicket                    0.005451\n",
              "team2_scoring_variance_at_venue     0.003014\n",
              "team2_scoring_average               0.002221\n",
              "team1_average_winning_margin        0.001749\n",
              "team2_batting_strength             -0.003665\n",
              "venue_avg_runs                     -0.006604\n",
              "team1_scoring_variance_at_venue    -0.008308\n",
              "team_winp_last5                    -0.011712\n",
              "Name: winner_01, dtype: float64"
            ]
          },
          "execution_count": 67,
          "metadata": {},
          "output_type": "execute_result"
        }
      ],
      "source": [
        "train_data.select_dtypes(include=['number']).corr()['winner_01'].sort_values(ascending = False)[:25]"
      ]
    },
    {
      "cell_type": "code",
      "execution_count": 68,
      "metadata": {},
      "outputs": [
        {
          "data": {
            "text/plain": [
              "team1_weighted_mom                 -0.151858\n",
              "team1_recent_mom_count             -0.141026\n",
              "team1_batting_strength             -0.140372\n",
              "team1_batsman_performance_index    -0.139209\n",
              "team1_avg_wicket                   -0.133810\n",
              "team1_strike_rate                  -0.129016\n",
              "team1_bowler_impact_score          -0.121397\n",
              "team_count_50runs_last15           -0.110761\n",
              "team1_overall_win_rate             -0.091137\n",
              "team1_bowler_eco                   -0.086270\n",
              "team1_winp_last25                  -0.085741\n",
              "team1_night_match_win_rate         -0.084950\n",
              "team1_recent_win_rate              -0.082662\n",
              "team1_scoring_average              -0.080175\n",
              "team1_momentum                     -0.079657\n",
              "team1_post_loss_performance        -0.077811\n",
              "team1_recent_form                  -0.075800\n",
              "team2_id                           -0.068129\n",
              "winner_id                          -0.065381\n",
              "team1_win_rate_at_venue            -0.064772\n",
              "team1_day_night_match_win_rate     -0.063411\n",
              "team1_historical_matchup_win_pct   -0.060605\n",
              "team1_win_percentage               -0.060605\n",
              "team1_adjusted_win_rate_at_venue   -0.057282\n",
              "team1_winp_team2_last15            -0.055788\n",
              "Name: winner_01, dtype: float64"
            ]
          },
          "execution_count": 68,
          "metadata": {},
          "output_type": "execute_result"
        }
      ],
      "source": [
        "train_data.select_dtypes(include=['number']).corr()['winner_01'].sort_values(ascending = True)[:25]"
      ]
    }
  ],
  "metadata": {
    "colab": {
      "provenance": []
    },
    "kernelspec": {
      "display_name": "Python 3",
      "name": "python3"
    },
    "language_info": {
      "codemirror_mode": {
        "name": "ipython",
        "version": 3
      },
      "file_extension": ".py",
      "mimetype": "text/x-python",
      "name": "python",
      "nbconvert_exporter": "python",
      "pygments_lexer": "ipython3",
      "version": "3.12.3"
    }
  },
  "nbformat": 4,
  "nbformat_minor": 0
}
