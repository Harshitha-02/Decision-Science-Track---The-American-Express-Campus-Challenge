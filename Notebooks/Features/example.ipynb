{
 "cells": [
  {
   "cell_type": "code",
   "execution_count": 1,
   "metadata": {},
   "outputs": [],
   "source": [
    "import pandas as pd\n",
    "from models_pipeline import pipeline"
   ]
  },
  {
   "cell_type": "markdown",
   "metadata": {},
   "source": [
    "# Pipeline take two arguments :\n",
    "    1. data ====> DataFrame.\n",
    "    2. Taget ====> column name of the y_label.\n",
    "\n",
    "And gives the the accuracy and performance for each Model. \n",
    "But you need to do the preprocessing first in the notebook itself."
   ]
  },
  {
   "cell_type": "code",
   "execution_count": 2,
   "metadata": {},
   "outputs": [
    {
     "name": "stdout",
     "output_type": "stream",
     "text": [
      "====================================================================================================\n",
      "GBM Accuracy: 0.5473684210526316\n",
      "________________________________________\n",
      "GBM Classification Report:               precision    recall  f1-score   support\n",
      "\n",
      "           0       0.57      0.55      0.56        99\n",
      "           1       0.53      0.55      0.54        91\n",
      "\n",
      "    accuracy                           0.55       190\n",
      "   macro avg       0.55      0.55      0.55       190\n",
      "weighted avg       0.55      0.55      0.55       190\n",
      "\n",
      "====================================================================================================\n",
      "LGBM Accuracy: 0.5473684210526316\n",
      "________________________________________\n",
      "LGBM Classification Report:               precision    recall  f1-score   support\n",
      "\n",
      "           0       0.57      0.54      0.55        99\n",
      "           1       0.53      0.56      0.54        91\n",
      "\n",
      "    accuracy                           0.55       190\n",
      "   macro avg       0.55      0.55      0.55       190\n",
      "weighted avg       0.55      0.55      0.55       190\n",
      "\n",
      "====================================================================================================\n",
      "XGB Accuracy: 0.5263157894736842\n",
      "________________________________________\n",
      "XGB Classification Report:               precision    recall  f1-score   support\n",
      "\n",
      "           0       0.54      0.58      0.56        99\n",
      "           1       0.51      0.47      0.49        91\n",
      "\n",
      "    accuracy                           0.53       190\n",
      "   macro avg       0.52      0.52      0.52       190\n",
      "weighted avg       0.53      0.53      0.53       190\n",
      "\n",
      "====================================================================================================\n",
      "CatBoost Accuracy: 0.5631578947368421\n",
      "________________________________________\n",
      "CatBoost Classification Report:               precision    recall  f1-score   support\n",
      "\n",
      "           0       0.58      0.60      0.59        99\n",
      "           1       0.55      0.53      0.54        91\n",
      "\n",
      "    accuracy                           0.56       190\n",
      "   macro avg       0.56      0.56      0.56       190\n",
      "weighted avg       0.56      0.56      0.56       190\n",
      "\n",
      "====================================================================================================\n"
     ]
    }
   ],
   "source": [
    "df = pd.read_csv('/Users/alokroy/Documents/Programming/Projects/Amex/data.csv')\n",
    "pipeline(df,'winner_flag')"
   ]
  },
  {
   "cell_type": "code",
   "execution_count": null,
   "metadata": {},
   "outputs": [],
   "source": []
  }
 ],
 "metadata": {
  "kernelspec": {
   "display_name": "amex",
   "language": "python",
   "name": "python3"
  },
  "language_info": {
   "codemirror_mode": {
    "name": "ipython",
    "version": 3
   },
   "file_extension": ".py",
   "mimetype": "text/x-python",
   "name": "python",
   "nbconvert_exporter": "python",
   "pygments_lexer": "ipython3",
   "version": "3.12.3"
  }
 },
 "nbformat": 4,
 "nbformat_minor": 2
}
