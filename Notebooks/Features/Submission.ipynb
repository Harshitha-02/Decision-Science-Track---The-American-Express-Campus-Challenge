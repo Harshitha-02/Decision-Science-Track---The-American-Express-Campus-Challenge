{
 "cells": [
  {
   "cell_type": "code",
   "execution_count": null,
   "metadata": {},
   "outputs": [],
   "source": [
    "## Importing libraries\n",
    "import pandas as pd\n",
    "import numpy as np\n",
    "from tqdm import tqdm\n",
    "tqdm.pandas()"
   ]
  },
  {
   "cell_type": "code",
   "execution_count": null,
   "metadata": {},
   "outputs": [],
   "source": [
    "match_lvl_data = pd.read_csv('/Users/alokroy/Documents/Programming/Projects/Amex/data/main/664389efa0868_match_level_scorecard.csv')\n",
    "bat_lvl_data = pd.read_csv('/Users/alokroy/Documents/Programming/Projects/Amex/data/main/663e2b548c98c_batsman_level_scorecard.csv')\n",
    "bowl_lvl_data = pd.read_csv('/Users/alokroy/Documents/Programming/Projects/Amex/data/main/663e2b2c60743_bowler_level_scorecard.csv')\n",
    "train_data = pd.read_csv('/Users/alokroy/Documents/Programming/Projects/Amex/data/main/663e2b6d54457_train_data_with_samplefeatures.csv')\n",
    "test_lvl_data = pd.read_csv('/Users/alokroy/Documents/Programming/Projects/Amex/data/main/6644a1e287df6_test_data_with_samplefeatures.csv')"
   ]
  },
  {
   "cell_type": "code",
   "execution_count": null,
   "metadata": {},
   "outputs": [],
   "source": [
    "bat_lvl_data['Fours'].fillna(0, inplace=True)\n",
    "bat_lvl_data['Sixes'].fillna(0, inplace=True)\n",
    "bat_lvl_data['strike_rate'].fillna(0, inplace=True)"
   ]
  },
  {
   "cell_type": "code",
   "execution_count": null,
   "metadata": {},
   "outputs": [],
   "source": [
    "def assign_toss_winner_flag(row):\n",
    "    if row['team1'] == row['toss winner']:\n",
    "        return row['team1_id']\n",
    "    elif row['team2'] == row['toss winner']:\n",
    "        return row['team2_id']\n",
    "train_data['toss_winner_id'] = train_data.apply(assign_toss_winner_flag, axis=1)\n",
    "match_lvl_data['toss_winner_id'] = match_lvl_data.apply(assign_toss_winner_flag, axis=1)\n",
    "test_lvl_data['toss_winner_id']= test_lvl_data.apply(assign_toss_winner_flag, axis=1)"
   ]
  },
  {
   "cell_type": "code",
   "execution_count": null,
   "metadata": {},
   "outputs": [],
   "source": [
    "def assign_bat(row):\n",
    "    if (row['toss_winner_id'] == row['team1_id']) & (row['toss decision']=='bat'):\n",
    "        return row['team1_id']\n",
    "    if (row['toss_winner_id'] != row['team1_id']) & (row['toss decision']=='field'):\n",
    "        return row['team1_id']\n",
    "    else:\n",
    "        return row['team2_id']\n",
    "train_data['bat_id'] = train_data.apply(assign_bat, axis=1) \n",
    "match_lvl_data['bat_id'] = match_lvl_data.apply(assign_bat, axis=1)\n",
    "test_lvl_data['bat_id'] = test_lvl_data.apply(assign_bat, axis=1)"
   ]
  },
  {
   "cell_type": "code",
   "execution_count": null,
   "metadata": {},
   "outputs": [],
   "source": [
    "(test_lvl_data['bat_id']== test_lvl_data['team1_id']).sum()"
   ]
  },
  {
   "cell_type": "code",
   "execution_count": null,
   "metadata": {},
   "outputs": [],
   "source": [
    "def winpLastn(team_id, date, n):\n",
    "    '''\n",
    "    Get a team's win % in last n games. If a team has won 3 game out of their last 5, win% is 60%.\n",
    "    \n",
    "    Input-\n",
    "    1. team_id: ID of the team to get their last n games and winner information from those games.\n",
    "    2. date: match date from which to get last n historical games.\n",
    "    3. n: look-back window of games.\n",
    "    \n",
    "    Output- None\n",
    "    \n",
    "    Returns- Float value denoting win% of the team in last n games.\n",
    "    '''\n",
    "    # filter out games with either team1/2_id as input team id, match_dt being before current game's date, sort desc by date, and get top n rows (games)\n",
    "    df_rel = match_lvl_data[(match_lvl_data['match_dt']<date)&\\\n",
    "                      ((match_lvl_data['team1_id']==team_id)|(match_lvl_data['team2_id']==team_id))]\\\n",
    "                        .sort_values(by='match_dt', ascending=False).head(n) \n",
    "    win_count = df_rel[df_rel['winner_id']==team_id].shape[0] # count number of rows having winner as the input team\n",
    "    if win_count == 0:\n",
    "        return 0\n",
    "    return round(win_count*100/df_rel.shape[0], 2) # return win% rounded to two decimal points"
   ]
  },
  {
   "cell_type": "code",
   "execution_count": null,
   "metadata": {},
   "outputs": [],
   "source": [
    "# Compute team1's win% in last 5 games\n",
    "train_data['team1_winp_last5'] = train_data.progress_apply(lambda x: \\\n",
    "                                  winpLastn(x['team1_id'], x['match_dt'], 15), axis=1)\n",
    "# Compute team2's win% in last 5 games\n",
    "train_data['team2_winp_last5'] = train_data.progress_apply(lambda x: \\\n",
    "                                  winpLastn(x['team2_id'], x['match_dt'], 15), axis=1)\n",
    "\n",
    "\n",
    "test_lvl_data['team1_winp_last5'] = test_lvl_data.progress_apply(lambda x: \\\n",
    "                                  winpLastn(x['team1_id'], x['match_dt'], 15), axis=1)\n",
    "# Compute team2's win% in last 5 games\n",
    "test_lvl_data['team2_winp_last5'] = test_lvl_data.progress_apply(lambda x: \\\n",
    "                                  winpLastn(x['team2_id'], x['match_dt'], 15), axis=1)"
   ]
  },
  {
   "cell_type": "code",
   "execution_count": null,
   "metadata": {},
   "outputs": [],
   "source": [
    "def winpCrossLastn(team1_id, team2_id, date, n):\n",
    "    '''\n",
    "    Function to compute team1's win% against team2 from the current game in their past n encounters.\n",
    "    \n",
    "    Input-\n",
    "    1. team1_id: ID of team1 to calculate win% of.\n",
    "    2. team2_id: ID of team2 to calculate win% against.\n",
    "    3: date: match date of the current game for which the feature is to be calculated.\n",
    "    4. n: look-back window of games for both these teams.\n",
    "    \n",
    "    Output- None\n",
    "    \n",
    "    Returns- Float value denoting team1's win% against team2 in their past n games against each other.\n",
    "    '''\n",
    "    # filter out games where either team1_id is input team1 and team2_id is input team2, or where team2_id is input team1 and team1_id is input team2.\n",
    "    # Also, match date is less than current games's input date, sort desc by date and get top n rows (games)\n",
    "    df_rel = match_lvl_data[(match_lvl_data['match_dt']<date)&\\\n",
    "                      (((match_lvl_data['team1_id']==team1_id)&(match_lvl_data['team2_id']==team2_id))|((match_lvl_data['team1_id']==team2_id)&(match_lvl_data['team2_id']==team1_id)))]\\\n",
    "                        .sort_values(by='match_dt', ascending=False).head(n)\n",
    "    win_count = df_rel[df_rel['winner_id']==team1_id].shape[0] # Counting number of rows (games) where winner is input team1.\n",
    "    if win_count == 0:\n",
    "        return 0\n",
    "    return round(win_count*100/df_rel.shape[0], 2) # return Float denoting team1's win% against team2 in past n games rounded to 2 decimal places."
   ]
  },
  {
   "cell_type": "code",
   "execution_count": null,
   "metadata": {},
   "outputs": [],
   "source": [
    "train_data['team1_winp_team2_last15'] = train_data.progress_apply(lambda x: \\\n",
    "                                  winpCrossLastn(x['team1_id'], x['team2_id'], x['match_dt'], 15), axis=1)\n",
    "train_data['team2_winp_team1_last15'] = train_data.progress_apply(lambda x: \\\n",
    "                                  winpCrossLastn(x['team2_id'], x['team1_id'], x['match_dt'], 15), axis=1)\n",
    "\n",
    "test_lvl_data['team1_winp_team2_last15'] = test_lvl_data.progress_apply(lambda x: \\\n",
    "                                  winpCrossLastn(x['team1_id'], x['team2_id'], x['match_dt'], 15), axis=1)\n",
    "test_lvl_data['team2_winp_team1_last15'] = test_lvl_data.progress_apply(lambda x: \\\n",
    "                                  winpCrossLastn(x['team2_id'], x['team1_id'], x['match_dt'], 15), axis=1)"
   ]
  },
  {
   "cell_type": "code",
   "execution_count": null,
   "metadata": {},
   "outputs": [],
   "source": [
    "train_data.drop(['team_count_50runs_last15','team1only_avg_runs_last15','team_winp_last5','ground_avg_runs_last15'],inplace=True, axis=1)"
   ]
  },
  {
   "cell_type": "code",
   "execution_count": null,
   "metadata": {},
   "outputs": [],
   "source": [
    "def winpLastn_venue(team_id, date, ground_id,n):\n",
    "    '''\n",
    "    Get a team's win % in last n games. If a team has won 3 game out of their last 5, win% is 60%.\n",
    "    \n",
    "    Input-\n",
    "    1. team_id: ID of the team to get their last n games and winner information from those games.\n",
    "    2. date: match date from which to get last n historical games.\n",
    "    3. n: look-back window of games.\n",
    "    \n",
    "    Output- None\n",
    "    \n",
    "    Returns- Float value denoting win% of the team in last n games.\n",
    "    '''\n",
    "    # filter out games with either team1/2_id as input team id, match_dt being before current game's date, sort desc by date, and get top n rows (games)\n",
    "    df_rel = match_lvl_data[(match_lvl_data['match_dt']<date)&\\\n",
    "                      ((match_lvl_data['team1_id']==team_id)|(match_lvl_data['team2_id']==team_id) & (match_lvl_data['ground_id']==ground_id))]\\\n",
    "                        .sort_values(by='match_dt', ascending=False).head(n) \n",
    "    win_count = df_rel[df_rel['winner_id']==team_id].shape[0] # count number of rows having winner as the input team\n",
    "    if win_count == 0:\n",
    "        return 0\n",
    "    return round(win_count*100/df_rel.shape[0], 2) # return win% rounded to two decimal points"
   ]
  },
  {
   "cell_type": "code",
   "execution_count": null,
   "metadata": {},
   "outputs": [],
   "source": [
    "# Compute team1's win% in last 5 games\n",
    "train_data['team1_winp_venue'] = train_data.progress_apply(lambda x: \\\n",
    "                                  winpLastn_venue(x['team1_id'], x['match_dt'],x['ground_id'], 15), axis=1)\n",
    "# Compute team2's win% in last 5 games\n",
    "train_data['team2_winp_venue'] = train_data.progress_apply(lambda x: \\\n",
    "                                  winpLastn_venue(x['team2_id'], x['match_dt'],x['ground_id'], 15), axis=1)\n",
    "\n",
    "# Compute team1's win% in last 5 games\n",
    "test_lvl_data['team1_winp_venue'] = test_lvl_data.progress_apply(lambda x: \\\n",
    "                                  winpLastn_venue(x['team1_id'], x['match_dt'],x['ground_id'], 15), axis=1)\n",
    "# Compute team2's win% in last 5 games\n",
    "test_lvl_data['team2_winp_venue'] = test_lvl_data.progress_apply(lambda x: \\\n",
    "                                  winpLastn_venue(x['team2_id'], x['match_dt'],x['ground_id'], 15), axis=1)"
   ]
  },
  {
   "cell_type": "code",
   "execution_count": null,
   "metadata": {},
   "outputs": [],
   "source": [
    "def winpCrossLastn_venue(team1_id, team2_id, date, ground_id, n):\n",
    "    '''\n",
    "    Function to compute team1's win% against team2 from the current game in their past n encounters at a specific ground.\n",
    "    \n",
    "    Input-\n",
    "    1. match_lvl_data: DataFrame containing match-level data.\n",
    "    2. team1_id: ID of team1 to calculate win% of.\n",
    "    3. team2_id: ID of team2 to calculate win% against.\n",
    "    4. date: match date of the current game for which the feature is to be calculated.\n",
    "    5. ground_id: ID of the ground where matches were played.\n",
    "    6. n: look-back window of games for both these teams.\n",
    "    \n",
    "    Output- None\n",
    "    \n",
    "    Returns- Float value denoting team1's win% against team2 in their past n games against each other at the specified ground.\n",
    "    '''\n",
    "    # Filter matches based on the criteria\n",
    "    df_rel = match_lvl_data[(match_lvl_data['match_dt'] < date) &\n",
    "                            (((match_lvl_data['team1_id'] == team1_id) & (match_lvl_data['team2_id'] == team2_id) & (match_lvl_data['ground_id'] == ground_id)) |\n",
    "                             ((match_lvl_data['team1_id'] == team2_id) & (match_lvl_data['team2_id'] == team1_id) & (match_lvl_data['ground_id'] == ground_id)))]\\\n",
    "                            .sort_values(by='match_dt', ascending=False).head(n)\n",
    "\n",
    "    if df_rel.empty:\n",
    "        return np.nan\n",
    "\n",
    "    win_count = df_rel[df_rel['winner_id'] == team1_id].shape[0]  # Counting number of rows (games) where winner is input team1.\n",
    "    \n",
    "    return round(win_count * 100 / df_rel.shape[0], 2)  # Return float denoting team1's win% against team2 in past n games rounded to 2 decimal places."
   ]
  },
  {
   "cell_type": "code",
   "execution_count": null,
   "metadata": {},
   "outputs": [],
   "source": [
    "def winpLastn_batndchase(team_id, bat_id,date,n):\n",
    "    '''\n",
    "    Get a team's win % in last n games. If a team has won 3 game out of their last 5, win% is 60%.\n",
    "    \n",
    "    Input-\n",
    "    1. team_id: ID of the team to get their last n games and winner information from those games.\n",
    "    2. date: match date from which to get last n historical games.\n",
    "    3. n: look-back window of games.\n",
    "    \n",
    "    Output- None\n",
    "    \n",
    "    Returns- Float value denoting win% of the team in last n games.\n",
    "    '''\n",
    "    if(bat_id==team_id):\n",
    "        df_rel = match_lvl_data[(match_lvl_data['match_dt']<date)&\\\n",
    "                      ((match_lvl_data['team1_id']==team_id)|(match_lvl_data['team2_id']==team_id) )]\\\n",
    "                        .sort_values(by='match_dt', ascending=False).head(n) \n",
    "        win_count = df_rel[(df_rel['winner_id' ]==team_id )& (df_rel['bat_id']==team_id)].shape[0] # count number of rows having winner as the input team\n",
    "        if win_count == 0:\n",
    "          return 0\n",
    "        return round(win_count*100/df_rel.shape[0], 2) # return win% rounded to two decimal points\n",
    "    else:\n",
    "       df_rel = match_lvl_data[(match_lvl_data['match_dt']<date)&\\\n",
    "                      ((match_lvl_data['team1_id']==team_id)|(match_lvl_data['team2_id']==team_id))]\\\n",
    "                        .sort_values(by='match_dt', ascending=False).head(n) \n",
    "       \n",
    "       win_count = df_rel[(df_rel['winner_id']==team_id) & (df_rel['bat_id']!=team_id)].shape[0] # count number of rows having winner as the input team\n",
    "       if win_count == 0:\n",
    "          return 0\n",
    "       return round(win_count*100/df_rel.shape[0], 2) # return win% rounded to two decimal points\n",
    "       "
   ]
  },
  {
   "cell_type": "code",
   "execution_count": null,
   "metadata": {},
   "outputs": [],
   "source": [
    "train_data['team1_winp_bat\\chase'] = train_data.progress_apply(lambda x: \\\n",
    "                                  winpLastn_batndchase(x['team1_id'], x['bat_id'], x['match_dt'], 15), axis=1)\n",
    "train_data['team2_winp_bat\\chase'] = train_data.progress_apply(lambda x: \\\n",
    "                                  winpLastn_batndchase(x['team2_id'], x['bat_id'], x['match_dt'], 15), axis=1)\n",
    "test_lvl_data['team1_winp_bat\\chase'] = test_lvl_data.progress_apply(lambda x: \\\n",
    "                                  winpLastn_batndchase(x['team1_id'], x['bat_id'], x['match_dt'], 15), axis=1)\n",
    "test_lvl_data['team2_winp_bat\\chase'] = test_lvl_data.progress_apply(lambda x: \\\n",
    "                                  winpLastn_batndchase(x['team2_id'], x['bat_id'], x['match_dt'], 15), axis=1)"
   ]
  },
  {
   "cell_type": "code",
   "execution_count": null,
   "metadata": {},
   "outputs": [],
   "source": [
    "def crosswinpLastn_batndchase(team1_id,team2_id, bat_id,date,n):\n",
    "    '''\n",
    "    Get a team's win % in last n games. If a team has won 3 game out of their last 5, win% is 60%.\n",
    "    \n",
    "    Input-\n",
    "    1. team_id: ID of the team to get their last n games and winner information from those games.\n",
    "    2. date: match date from which to get last n historical games.\n",
    "    3. n: look-back window of games.\n",
    "    \n",
    "    Output- None\n",
    "    \n",
    "    Returns- Float value denoting win% of the team in last n games.\n",
    "    '''\n",
    "    if(bat_id==team1_id):\n",
    "        df_rel = match_lvl_data[(match_lvl_data['match_dt']<date)&\\\n",
    "                      (((match_lvl_data['team1_id']==team1_id)&(match_lvl_data['team2_id']==team2_id))|((match_lvl_data['team1_id']==team2_id)&(match_lvl_data['team2_id']==team1_id)))]\\\n",
    "                        .sort_values(by='match_dt', ascending=False).head(n) \n",
    "        win_count = df_rel[(df_rel['winner_id']==team1_id) & (df_rel['bat_id']==team1_id)].shape[0] # count number of rows having winner as the input team\n",
    "        if win_count == 0:\n",
    "          return 0\n",
    "        return round(win_count*100/df_rel.shape[0], 2) # return win% rounded to two decimal points\n",
    "    else:\n",
    "       df_rel = match_lvl_data[(match_lvl_data['match_dt']<date)&\\\n",
    "                      (((match_lvl_data['team1_id']==team1_id)&(match_lvl_data['team2_id']==team2_id))|((match_lvl_data['team1_id']==team2_id)&(match_lvl_data['team2_id']==team1_id)))]\\\n",
    "                        .sort_values(by='match_dt', ascending=False).head(n) \n",
    "       win_count = df_rel[(df_rel['winner_id']==team1_id ) & (df_rel['bat_id']!=team1_id )].shape[0] # count number of rows having winner as the input team\n",
    "       if win_count == 0:\n",
    "          return 0\n",
    "       return round(win_count*100/df_rel.shape[0], 2) # return win% rounded to two decimal points"
   ]
  },
  {
   "cell_type": "code",
   "execution_count": null,
   "metadata": {},
   "outputs": [],
   "source": [
    "def winpLastn_venue_bat(ground_id, date,n):\n",
    "    '''\n",
    "    Get a team's win % in last n games. If a team has won 3 game out of their last 5, win% is 60%.\n",
    "    \n",
    "    Input-\n",
    "    1. team_id: ID of the team to get their last n games and winner information from those games.\n",
    "    2. date: match date from which to get last n historical games.\n",
    "    3. n: look-back window of games.\n",
    "    \n",
    "    Output- None\n",
    "    \n",
    "    Returns- Float value denoting win% of the team in last n games.\n",
    "    '''\n",
    "\n",
    "    # filter out games with either team1/2_id as input team id, match_dt being before current game's date, sort desc by date, and get top n rows (games)\n",
    "    df_rel = match_lvl_data[(match_lvl_data['match_dt']<date)&\\\n",
    "                    ( (match_lvl_data['ground_id']==ground_id))]\\\n",
    "                        .sort_values(by='match_dt', ascending=False).head(n) \n",
    "    win_count = df_rel[df_rel['winner_id']==df_rel['bat_id']].shape[0] # count number of rows having winner as the input team\n",
    "    if win_count == 0:\n",
    "        return 0\n",
    "    return round(win_count*100/df_rel.shape[0], 2) # return win% rounded to two decimal points"
   ]
  },
  {
   "cell_type": "code",
   "execution_count": null,
   "metadata": {},
   "outputs": [],
   "source": [
    "train_data['bat_venue_win'] = train_data.progress_apply(lambda x: \\\n",
    "                                  winpLastn_venue_bat(x['ground_id'], x['match_dt'], 15), axis=1)\n",
    "test_lvl_data['bat_venue_win'] = test_lvl_data.progress_apply(lambda x: \\\n",
    "                                  winpLastn_venue_bat(x['ground_id'], x['match_dt'], 15), axis=1)"
   ]
  },
  {
   "cell_type": "code",
   "execution_count": null,
   "metadata": {},
   "outputs": [],
   "source": [
    "def winpLastn_venue_bowl(ground_id, date,n):\n",
    "    '''\n",
    "    Get a team's win % in last n games. If a team has won 3 game out of their last 5, win% is 60%.\n",
    "    \n",
    "    Input-\n",
    "    1. team_id: ID of the team to get their last n games and winner information from those games.\n",
    "    2. date: match date from which to get last n historical games.\n",
    "    3. n: look-back window of games.\n",
    "    \n",
    "    Output- None\n",
    "    \n",
    "    Returns- Float value denoting win% of the team in last n games.\n",
    "    '''\n",
    "\n",
    "    # filter out games with either team1/2_id as input team id, match_dt being before current game's date, sort desc by date, and get top n rows (games)\n",
    "    df_rel = match_lvl_data[(match_lvl_data['match_dt']<date)&\\\n",
    "                    ( (match_lvl_data['ground_id']==ground_id))]\\\n",
    "                        .sort_values(by='match_dt', ascending=False).head(n) \n",
    "    win_count = df_rel[df_rel['winner_id']!=df_rel['bat_id']].shape[0] # count number of rows having winner as the input team\n",
    "    if win_count == 0:\n",
    "        return 0\n",
    "    return round(win_count*100/df_rel.shape[0], 2) # return win% rounded to two decimal points"
   ]
  },
  {
   "cell_type": "code",
   "execution_count": null,
   "metadata": {},
   "outputs": [],
   "source": [
    "train_data['bowl_venue_win'] = train_data.progress_apply(lambda x: \\\n",
    "                                  winpLastn_venue_bowl(x['ground_id'], x['match_dt'], 15), axis=1)\n",
    "\n",
    "test_lvl_data['bowl_venue_win'] = test_lvl_data.progress_apply(lambda x: \\\n",
    "                                  winpLastn_venue_bowl(x['ground_id'], x['match_dt'], 15), axis=1)"
   ]
  },
  {
   "cell_type": "code",
   "execution_count": null,
   "metadata": {},
   "outputs": [],
   "source": [
    "def teamAvgRunsLastn_innings1(team_id, bat_id,date, n):\n",
    "    '''\n",
    "    Function to calculate a team's average runs in their last n games.\n",
    "    \n",
    "    Input-\n",
    "    1. team_id: ID of the team to calculate average runs.\n",
    "    2. date: match date of the current game for which the feature is calculated.\n",
    "    3. n: look-back window of games for the team.\n",
    "    \n",
    "    Output- None\n",
    "    \n",
    "    Return- Float value denoting average of runs scored by team1 in their last n games.\n",
    "    '''\n",
    "    # filter out games with either team1/2_id as input team_id, match date less than current game's input date, sort desc by date, and top n rows (games) returned\n",
    "    \n",
    "    df_rel = match_lvl_data[(match_lvl_data['match_dt']<date)&\\\n",
    "                    ((match_lvl_data['team1_id']==team_id)|(match_lvl_data['team2_id']==team_id) & (match_lvl_data['bat_id']==team_id))]\\\n",
    "                        .sort_values(by='match_dt', ascending=False).head(n)\n",
    "    return df_rel['inning1_runs'].mean()"
   ]
  },
  {
   "cell_type": "code",
   "execution_count": null,
   "metadata": {},
   "outputs": [],
   "source": [
    "train_data['runs_team1_1st_inning']= train_data.progress_apply(lambda x: \\\n",
    "                                 teamAvgRunsLastn_innings1(x['team1_id'],x['bat_id'], x['match_dt'], 15), axis=1)\n",
    "train_data['runs_team2_1st_inning']= train_data.progress_apply(lambda x: \\\n",
    "                                  teamAvgRunsLastn_innings1(x['team2_id'],x['bat_id'], x['match_dt'], 15), axis=1)\n",
    "test_lvl_data['runs_team1_1st_inning']= test_lvl_data.progress_apply(lambda x: \\\n",
    "                                 teamAvgRunsLastn_innings1(x['team1_id'],x['bat_id'], x['match_dt'], 15), axis=1)\n",
    "test_lvl_data['runs_team2_1st_inning']= test_lvl_data.progress_apply(lambda x: \\\n",
    "                                  teamAvgRunsLastn_innings1(x['team2_id'],x['bat_id'], x['match_dt'], 15), axis=1)"
   ]
  },
  {
   "cell_type": "code",
   "execution_count": null,
   "metadata": {},
   "outputs": [],
   "source": [
    "def teamAvgRunsLastn_innings2(team_id, bat_id,date, n):\n",
    "    '''\n",
    "    Function to calculate a team's average runs in their last n games.\n",
    "    \n",
    "    Input-\n",
    "    1. team_id: ID of the team to calculate average runs.\n",
    "    2. date: match date of the current game for which the feature is calculated.\n",
    "    3. n: look-back window of games for the team.\n",
    "    \n",
    "    Output- None\n",
    "    \n",
    "    Return- Float value denoting average of runs scored by team1 in their last n games.\n",
    "    '''\n",
    "    # filter out games with either team1/2_id as input team_id, match date less than current game's input date, sort desc by date, and top n rows (games) returned\n",
    "    \n",
    "    df_rel = match_lvl_data[(match_lvl_data['match_dt']<date)&\\\n",
    "                    ((match_lvl_data['team1_id']==team_id)|(match_lvl_data['team2_id']==team_id) & (match_lvl_data['bat_id']!=team_id))]\\\n",
    "                        .sort_values(by='match_dt', ascending=False).head(n)\n",
    "    return df_rel['inning2_runs'].mean()"
   ]
  },
  {
   "cell_type": "code",
   "execution_count": null,
   "metadata": {},
   "outputs": [],
   "source": [
    "train_data['runs_team1_2nd_inning']= train_data.progress_apply(lambda x: \\\n",
    "                                 teamAvgRunsLastn_innings2(x['team1_id'],x['bat_id'], x['match_dt'], 15), axis=1)\n",
    "train_data['runs_team2_2nd_inning']= train_data.progress_apply(lambda x: \\\n",
    "                                  teamAvgRunsLastn_innings2(x['team2_id'],x['bat_id'], x['match_dt'], 15), axis=1)\n",
    "\n",
    "test_lvl_data['runs_team1_2nd_inning']= test_lvl_data.progress_apply(lambda x: \\\n",
    "                                 teamAvgRunsLastn_innings2(x['team1_id'],x['bat_id'], x['match_dt'], 15), axis=1)\n",
    "test_lvl_data['runs_team2_2nd_inning']= test_lvl_data.progress_apply(lambda x: \\\n",
    "                                  teamAvgRunsLastn_innings2(x['team2_id'],x['bat_id'], x['match_dt'], 15), axis=1)"
   ]
  },
  {
   "cell_type": "code",
   "execution_count": null,
   "metadata": {},
   "outputs": [],
   "source": [
    "def teamAvgwicketsLastn_innings1(team_id, bat_id,date, n):\n",
    "    '''\n",
    "    Function to calculate a team's average runs in their last n games.\n",
    "    \n",
    "    Input-\n",
    "    1. team_id: ID of the team to calculate average runs.\n",
    "    2. date: match date of the current game for which the feature is calculated.\n",
    "    3. n: look-back window of games for the team.\n",
    "    \n",
    "    Output- None\n",
    "    \n",
    "    Return- Float value denoting average of runs scored by team1 in their last n games.\n",
    "    '''\n",
    "    # filter out games with either team1/2_id as input team_id, match date less than current game's input date, sort desc by date, and top n rows (games) returned\n",
    "    \n",
    "    df_rel = match_lvl_data[(match_lvl_data['match_dt']<date)&\\\n",
    "                    ((match_lvl_data['team1_id']==team_id)|(match_lvl_data['team2_id']==team_id) & (match_lvl_data['bat_id']!=team_id))]\\\n",
    "                        .sort_values(by='match_dt', ascending=False).head(n)\n",
    "    return df_rel['inning1_wickets'].mean()"
   ]
  },
  {
   "cell_type": "code",
   "execution_count": null,
   "metadata": {},
   "outputs": [],
   "source": [
    "train_data['wickets_team2_inning1']= train_data.progress_apply(lambda x: \\\n",
    "                                 teamAvgwicketsLastn_innings1(x['team2_id'],x['bat_id'], x['match_dt'], 15), axis=1)\n",
    "train_data['wickets_team1_inning1']= train_data.progress_apply(lambda x: \\\n",
    "                                 teamAvgwicketsLastn_innings1(x['team1_id'],x['bat_id'], x['match_dt'], 15), axis=1)\n",
    "test_lvl_data['wickets_team2_inning1']= test_lvl_data.progress_apply(lambda x: \\\n",
    "                                 teamAvgwicketsLastn_innings1(x['team2_id'],x['bat_id'], x['match_dt'], 15), axis=1)\n",
    "test_lvl_data['wickets_team1_inning1']= test_lvl_data.progress_apply(lambda x: \\\n",
    "                                 teamAvgwicketsLastn_innings1(x['team1_id'],x['bat_id'], x['match_dt'], 15), axis=1)"
   ]
  },
  {
   "cell_type": "code",
   "execution_count": null,
   "metadata": {},
   "outputs": [],
   "source": [
    "def teamAvgwicketsLastn_innings2(team_id, bat_id,date, n):\n",
    "    '''\n",
    "    Function to calculate a team's average runs in their last n games.\n",
    "    \n",
    "    Input-\n",
    "    1. team_id: ID of the team to calculate average runs.\n",
    "    2. date: match date of the current game for which the feature is calculated.\n",
    "    3. n: look-back window of games for the team.\n",
    "    \n",
    "    Output- None\n",
    "    \n",
    "    Return- Float value denoting average of runs scored by team1 in their last n games.\n",
    "    '''\n",
    "    # filter out games with either team1/2_id as input team_id, match date less than current game's input date, sort desc by date, and top n rows (games) returned\n",
    "    \n",
    "    df_rel = match_lvl_data[(match_lvl_data['match_dt']<date)&\\\n",
    "                    ((match_lvl_data['team1_id']==team_id)|(match_lvl_data['team2_id']==team_id) & (match_lvl_data['bat_id']==team_id))]\\\n",
    "                        .sort_values(by='match_dt', ascending=False).head(n)\n",
    "    return df_rel['inning2_wickets'].mean()"
   ]
  },
  {
   "cell_type": "code",
   "execution_count": 29,
   "metadata": {},
   "outputs": [
    {
     "name": "stderr",
     "output_type": "stream",
     "text": [
      "100%|██████████| 271/271 [00:00<00:00, 2377.72it/s]\n",
      "100%|██████████| 271/271 [00:00<00:00, 2540.64it/s]\n"
     ]
    }
   ],
   "source": [
    "train_data['wickets_team1_inning2']= train_data.progress_apply(lambda x: \\\n",
    "                                 teamAvgwicketsLastn_innings2(x['team1_id'],x['bat_id'], x['match_dt'], 15), axis=1)\n",
    "train_data['wickets_team2_inning2']= train_data.progress_apply(lambda x: \\\n",
    "                                 teamAvgwicketsLastn_innings2(x['team2_id'],x['bat_id'], x['match_dt'], 15), axis=1)\n",
    "\n",
    "test_lvl_data['wickets_team1_inning2']= test_lvl_data.progress_apply(lambda x: \\\n",
    "                                 teamAvgwicketsLastn_innings2(x['team1_id'],x['bat_id'], x['match_dt'], 15), axis=1)\n",
    "\n",
    "\n",
    "test_lvl_data['wickets_team2_inning2']= test_lvl_data.progress_apply(lambda x: \\\n",
    "                                 teamAvgwicketsLastn_innings2(x['team2_id'],x['bat_id'], x['match_dt'], 15), axis=1)"
   ]
  },
  {
   "cell_type": "code",
   "execution_count": 30,
   "metadata": {},
   "outputs": [],
   "source": [
    "#Batsman level statistics"
   ]
  },
  {
   "cell_type": "code",
   "execution_count": 31,
   "metadata": {},
   "outputs": [],
   "source": [
    "def giveLastNgamesPlayer(player_id, date, n, bat_or_bowl):\n",
    "    '''\n",
    "    Function to get last n games stats of a player before an input date.\n",
    "    \n",
    "    Input-\n",
    "    1. player_id: id of the player to get historical data.\n",
    "    2. date: date to look-back and get n games. Stats returned are before this input date.\n",
    "    3. n: Number of historical games stats to return.\n",
    "    4. bat_or_bowl: Kind of stats to return. {'bat': batting stats to return, 'bowl': bowling stats to return}\n",
    "    \n",
    "    Output-None\n",
    "    \n",
    "    Returns- dataframe having bowling/batting stats from last n games of a player before an input date. \n",
    "    The results are sorted by date.\n",
    "    '''\n",
    "    if bat_or_bowl == 'bat':\n",
    "        df_topick = bat_lvl_data\n",
    "        id_col = 'batsman_id'\n",
    "    else:\n",
    "        df_topick = bowl_lvl_data\n",
    "        id_col = 'bowler_id'\n",
    "        \n",
    "    return df_topick[(df_topick['match_dt']<date)&(df_topick[id_col]==float(player_id))]\\\n",
    "                .sort_values(by='match_dt', ascending=False).head(n)"
   ]
  },
  {
   "cell_type": "code",
   "execution_count": 32,
   "metadata": {},
   "outputs": [],
   "source": [
    "def no50sLastn(player_list, date, n):\n",
    "    '''\n",
    "    Function to get total number of 50s scored by players in the roster of a team in last n games.\n",
    "    \n",
    "    Input-\n",
    "    1. player_list: ':' separated list of player ids in the roster of a team.\n",
    "    2. date: match date of the game to calculate this feature.\n",
    "    3. n: Number of games to look-back and create this feature.\n",
    "    \n",
    "    Output-None\n",
    "    \n",
    "    Returns- int value denoting sum of 50s scored by all players in the roster.\n",
    "    '''\n",
    "    \n",
    "    player_list = str(player_list).split(':') # split string of ':' separated ids into a list of ids\n",
    "    res_list = []\n",
    "    for player in player_list: # loop over each player_id in roster\n",
    "        df_rel = giveLastNgamesPlayer(player_id=player, date=date, n=n, bat_or_bowl='bat') # getting batting stats from last n games for each player.\n",
    "        df_rel['gte_50runs'] = np.where(df_rel['runs']>=50, 1, 0) # binary indicator to denote whether the player scored a 50 in the game (runs>=50).\n",
    "        res_list.append(np.nansum(df_rel['gte_50runs']))# Sum up number of 50s for the player and append to a list. We will do this for all players.\n",
    "    return np.nansum(res_list)# Sum up values of the list which is sum of 50s by all players in the roster"
   ]
  },
  {
   "cell_type": "code",
   "execution_count": 33,
   "metadata": {},
   "outputs": [],
   "source": [
    "def SRLastn(player_list, date, n):\n",
    "    '''\n",
    "    Function to get the average strike rate of players in the roster of a team in the last n games.\n",
    "    \n",
    "    Input:\n",
    "    1. player_list: ':' separated list of player ids in the roster of a team.\n",
    "    2. date: match date of the game to calculate this feature.\n",
    "    3. n: Number of games to look-back and create this feature.\n",
    "    \n",
    "    Output: None\n",
    "    \n",
    "    Returns: float value denoting the average strike rate of all players in the roster.\n",
    "    '''\n",
    "    \n",
    "    # Split the player_list into individual player IDs\n",
    "    player_list = str(player_list).split(':')\n",
    "    res_list = []\n",
    "    \n",
    "    # Loop through each player ID\n",
    "    for player in player_list:\n",
    "        # Get batting stats from the last n games for each player\n",
    "        df_rel = giveLastNgamesPlayer(player_id=player, date=date, n=n, bat_or_bowl='bat')\n",
    "        # Calculate the mean strike rate for the player and append it to res_list\n",
    "        if not df_rel.empty:\n",
    "            res_list.append(np.nanmean(df_rel['strike_rate']))\n",
    "    \n",
    "    # Return the mean of strike rates from res_list if it contains any values\n",
    "    if res_list:\n",
    "        return np.nanmean(res_list)\n",
    "    else:\n",
    "        return np.nan  # Return NaN if res_list is empty"
   ]
  },
  {
   "cell_type": "code",
   "execution_count": 34,
   "metadata": {},
   "outputs": [
    {
     "name": "stderr",
     "output_type": "stream",
     "text": [
      "100%|██████████| 948/948 [00:11<00:00, 81.99it/s]\n",
      "100%|██████████| 948/948 [00:10<00:00, 90.55it/s]\n",
      "100%|██████████| 271/271 [00:02<00:00, 91.09it/s]\n",
      "100%|██████████| 271/271 [00:02<00:00, 91.06it/s]\n"
     ]
    }
   ],
   "source": [
    "train_data['team1_count_50runs_last15'] = train_data.progress_apply(lambda x: \\\n",
    "            no50sLastn(player_list=x['team1_roster_ids'], date=x['match_dt'], n=15), axis=1)\n",
    "# Computing number of 50 runs in last 15 games for team2 for train dataset.\n",
    "train_data['team2_count_50runs_last15'] = train_data.progress_apply(lambda x: \\\n",
    "            no50sLastn(player_list=x['team2_roster_ids'], date=x['match_dt'], n=15), axis=1)\n",
    "\n",
    "test_lvl_data['team1_count_50runs_last15'] = test_lvl_data.progress_apply(lambda x: \\\n",
    "            no50sLastn(player_list=x['team1_roster_ids'], date=x['match_dt'], n=15), axis=1)\n",
    "# Computing number of 50 runs in last 15 games for team2 for train dataset.\n",
    "test_lvl_data['team2_count_50runs_last15'] = test_lvl_data.progress_apply(lambda x: \\\n",
    "            no50sLastn(player_list=x['team2_roster_ids'], date=x['match_dt'], n=15), axis=1)"
   ]
  },
  {
   "cell_type": "code",
   "execution_count": 35,
   "metadata": {},
   "outputs": [
    {
     "name": "stderr",
     "output_type": "stream",
     "text": [
      "100%|██████████| 948/948 [00:09<00:00, 98.05it/s] \n",
      "100%|██████████| 948/948 [00:10<00:00, 93.60it/s] \n",
      "100%|██████████| 271/271 [00:02<00:00, 98.59it/s]\n",
      "100%|██████████| 271/271 [00:02<00:00, 94.82it/s]\n"
     ]
    }
   ],
   "source": [
    "train_data['team1_SR'] = train_data.progress_apply(lambda x: \\\n",
    "            SRLastn(player_list=x['team1_roster_ids'], date=x['match_dt'], n=15), axis=1)\n",
    "# Computing number of 50 runs in last 15 games for team2 for train dataset.\n",
    "train_data['team2_SR'] = train_data.progress_apply(lambda x: \\\n",
    "            SRLastn(player_list=x['team2_roster_ids'], date=x['match_dt'], n=15), axis=1)\n",
    "\n",
    "test_lvl_data['team1_SR'] = test_lvl_data.progress_apply(lambda x: \\\n",
    "            SRLastn(player_list=x['team1_roster_ids'], date=x['match_dt'], n=15), axis=1)\n",
    "# Computing number of 50 runs in last 15 games for team2 for train dataset.\n",
    "test_lvl_data['team2_SR'] = test_lvl_data.progress_apply(lambda x: \\\n",
    "            SRLastn(player_list=x['team2_roster_ids'], date=x['match_dt'], n=15), axis=1)"
   ]
  },
  {
   "cell_type": "code",
   "execution_count": 36,
   "metadata": {},
   "outputs": [],
   "source": [
    "def RunsLastn(player_list, date, n):\n",
    "    '''\n",
    "    Function to get the average strike rate of players in the roster of a team in the last n games.\n",
    "    \n",
    "    Input:\n",
    "    1. player_list: ':' separated list of player ids in the roster of a team.\n",
    "    2. date: match date of the game to calculate this feature.\n",
    "    3. n: Number of games to look-back and create this feature.\n",
    "    \n",
    "    Output: None\n",
    "    \n",
    "    Returns: float value denoting the average strike rate of all players in the roster.\n",
    "    '''\n",
    "    \n",
    "    # Split the player_list into individual player IDs\n",
    "    player_list = str(player_list).split(':')\n",
    "    res_list = []\n",
    "    \n",
    "    # Loop through each player ID\n",
    "    for player in player_list:\n",
    "        # Get batting stats from the last n games for each player\n",
    "        df_rel = giveLastNgamesPlayer(player_id=player, date=date, n=n, bat_or_bowl='bat')\n",
    "        # Calculate the mean strike rate for the player and append it to res_list\n",
    "        if not df_rel.empty:\n",
    "            res_list.append(np.nanmean(df_rel['runs']))\n",
    "    \n",
    "    # Return the mean of strike rates from res_list if it contains any values\n",
    "    if res_list:\n",
    "        return np.nanmean(res_list)\n",
    "    else:\n",
    "        return np.nan  # Return NaN if res_list is empty"
   ]
  },
  {
   "cell_type": "code",
   "execution_count": 37,
   "metadata": {},
   "outputs": [
    {
     "name": "stderr",
     "output_type": "stream",
     "text": [
      "100%|██████████| 948/948 [00:09<00:00, 98.80it/s] \n",
      "100%|██████████| 948/948 [00:09<00:00, 97.98it/s] \n",
      "100%|██████████| 271/271 [00:02<00:00, 95.61it/s] \n",
      "100%|██████████| 271/271 [00:02<00:00, 95.27it/s] \n"
     ]
    }
   ],
   "source": [
    "train_data['team1_avg'] = train_data.progress_apply(lambda x: \\\n",
    "            RunsLastn(player_list=x['team1_roster_ids'], date=x['match_dt'], n=15), axis=1)\n",
    "# Computing number of 50 runs in last 15 games for team2 for train dataset.\n",
    "train_data['team2_avg'] = train_data.progress_apply(lambda x: \\\n",
    "            RunsLastn(player_list=x['team2_roster_ids'], date=x['match_dt'], n=15), axis=1)\n",
    "\n",
    "test_lvl_data['team1_avg'] = test_lvl_data.progress_apply(lambda x: \\\n",
    "            RunsLastn(player_list=x['team1_roster_ids'], date=x['match_dt'], n=15), axis=1)\n",
    "# Computing number of 50 runs in last 15 games for team2 for train dataset.\n",
    "test_lvl_data['team2_avg'] = test_lvl_data.progress_apply(lambda x: \\\n",
    "            RunsLastn(player_list=x['team2_roster_ids'], date=x['match_dt'], n=15), axis=1)"
   ]
  },
  {
   "cell_type": "code",
   "execution_count": 38,
   "metadata": {},
   "outputs": [],
   "source": [
    "#Bowler leve"
   ]
  },
  {
   "cell_type": "code",
   "execution_count": 39,
   "metadata": {},
   "outputs": [],
   "source": [
    "#\n",
    "def WicketsLastn(player_list, date, n):\n",
    "    '''\n",
    "    Function to get the average strike rate of players in the roster of a team in the last n games.\n",
    "    \n",
    "    Input:\n",
    "    1. player_list: ':' separated list of player ids in the roster of a team.\n",
    "    2. date: match date of the game to calculate this feature.\n",
    "    3. n: Number of games to look-back and create this feature.\n",
    "    \n",
    "    Output: None\n",
    "    \n",
    "    Returns: float value denoting the average strike rate of all players in the roster.\n",
    "    '''\n",
    "    \n",
    "    # Split the player_list into individual player IDs\n",
    "    player_list = str(player_list).split(':')\n",
    "    res_list = []\n",
    "    \n",
    "    # Loop through each player ID\n",
    "    for player in player_list:\n",
    "        # Get batting stats from the last n games for each player\n",
    "        df_rel = giveLastNgamesPlayer(player_id=player, date=date, n=n, bat_or_bowl='bowl')\n",
    "        # Calculate the mean strike rate for the player and append it to res_list\n",
    "        if not df_rel.empty:\n",
    "            res_list.append(np.nanmean(df_rel['wicket_count']))\n",
    "    \n",
    "    # Return the mean of strike rates from res_list if it contains any values\n",
    "    if res_list:\n",
    "        return np.nanmean(res_list)\n",
    "    else:\n",
    "        return np.nan  # Return NaN if res_list is empty"
   ]
  },
  {
   "cell_type": "code",
   "execution_count": 40,
   "metadata": {},
   "outputs": [
    {
     "name": "stderr",
     "output_type": "stream",
     "text": [
      "100%|██████████| 948/948 [00:07<00:00, 122.86it/s]\n",
      "100%|██████████| 948/948 [00:07<00:00, 121.12it/s]\n",
      "100%|██████████| 271/271 [00:02<00:00, 124.96it/s]\n",
      "100%|██████████| 271/271 [00:02<00:00, 122.53it/s]\n"
     ]
    }
   ],
   "source": [
    "train_data['team1_avg_wkt'] = train_data.progress_apply(lambda x: \\\n",
    "            WicketsLastn(player_list=x['team1_roster_ids'], date=x['match_dt'], n=15), axis=1)\n",
    "# Computing number of 50 runs in last 15 games for team2 for train dataset.\n",
    "train_data['team2_avg_wkt'] = train_data.progress_apply(lambda x: \\\n",
    "            WicketsLastn(player_list=x['team2_roster_ids'], date=x['match_dt'], n=15), axis=1)\n",
    "\n",
    "test_lvl_data['team1_avg_wkt'] = test_lvl_data.progress_apply(lambda x: \\\n",
    "            WicketsLastn(player_list=x['team1_roster_ids'], date=x['match_dt'], n=15), axis=1)\n",
    "# Computing number of 50 runs in last 15 games for team2 for train dataset.\n",
    "test_lvl_data['team2_avg_wkt'] = test_lvl_data.progress_apply(lambda x: \\\n",
    "            WicketsLastn(player_list=x['team2_roster_ids'], date=x['match_dt'], n=15), axis=1)"
   ]
  },
  {
   "cell_type": "code",
   "execution_count": 41,
   "metadata": {},
   "outputs": [],
   "source": [
    "def EcoLastn(player_list, date, n):\n",
    "    '''\n",
    "    Function to get the average strike rate of players in the roster of a team in the last n games.\n",
    "    \n",
    "    Input:\n",
    "    1. player_list: ':' separated list of player ids in the roster of a team.\n",
    "    2. date: match date of the game to calculate this feature.\n",
    "    3. n: Number of games to look-back and create this feature.\n",
    "    \n",
    "    Output: None\n",
    "    \n",
    "    Returns: float value denoting the average strike rate of all players in the roster.\n",
    "    '''\n",
    "    \n",
    "    # Split the player_list into individual player IDs\n",
    "    player_list = str(player_list).split(':')\n",
    "    res_list = []\n",
    "    \n",
    "    # Loop through each player ID\n",
    "    for player in player_list:\n",
    "        # Get batting stats from the last n games for each player\n",
    "        df_rel = giveLastNgamesPlayer(player_id=player, date=date, n=n, bat_or_bowl='bowl')\n",
    "        # Calculate the mean strike rate for the player and append it to res_list\n",
    "        if not df_rel.empty:\n",
    "            res_list.append(np.nanmean(df_rel['economy']))\n",
    "    \n",
    "    # Return the mean of strike rates from res_list if it contains any values\n",
    "    if res_list:\n",
    "        return np.nanmean(res_list)\n",
    "    else:\n",
    "        return np.nan  # Return NaN if res_list is empty"
   ]
  },
  {
   "cell_type": "code",
   "execution_count": 42,
   "metadata": {},
   "outputs": [
    {
     "name": "stderr",
     "output_type": "stream",
     "text": [
      "100%|██████████| 948/948 [00:07<00:00, 121.91it/s]\n",
      "100%|██████████| 948/948 [00:09<00:00, 104.38it/s]\n",
      "100%|██████████| 271/271 [00:02<00:00, 97.76it/s] \n",
      "100%|██████████| 271/271 [00:02<00:00, 96.07it/s] \n"
     ]
    }
   ],
   "source": [
    "train_data['team1_avg_eco'] = train_data.progress_apply(lambda x: \\\n",
    "            EcoLastn(player_list=x['team1_roster_ids'], date=x['match_dt'], n=15), axis=1)\n",
    "# Computing number of 50 runs in last 15 games for team2 for train dataset.\n",
    "train_data['team2_avg_eco'] = train_data.progress_apply(lambda x: \\\n",
    "            EcoLastn(player_list=x['team2_roster_ids'], date=x['match_dt'], n=15), axis=1)\n",
    "\n",
    "test_lvl_data['team1_avg_eco'] = test_lvl_data.progress_apply(lambda x: \\\n",
    "            EcoLastn(player_list=x['team1_roster_ids'], date=x['match_dt'], n=15), axis=1)\n",
    "# Computing number of 50 runs in last 15 games for team2 for train dataset.\n",
    "test_lvl_data['team2_avg_eco'] = test_lvl_data.progress_apply(lambda x: \\\n",
    "            EcoLastn(player_list=x['team2_roster_ids'], date=x['match_dt'], n=15), axis=1)"
   ]
  },
  {
   "cell_type": "code",
   "execution_count": 43,
   "metadata": {},
   "outputs": [],
   "source": [
    "train_data.fillna(0,inplace=True)\n",
    "test_lvl_data.fillna(0, inplace=True)"
   ]
  },
  {
   "cell_type": "code",
   "execution_count": 44,
   "metadata": {},
   "outputs": [
    {
     "data": {
      "text/plain": [
       "match id                     0\n",
       "team1                        0\n",
       "team1_id                     0\n",
       "team1_roster_ids             0\n",
       "team2                        0\n",
       "team2_id                     0\n",
       "team2_roster_ids             0\n",
       "toss winner                  0\n",
       "toss decision                0\n",
       "venue                        0\n",
       "city                         0\n",
       "match_dt                     0\n",
       "lighting                     0\n",
       "series_name                  0\n",
       "season                       0\n",
       "ground_id                    0\n",
       "team_count_50runs_last15     0\n",
       "team_winp_last5              0\n",
       "team1only_avg_runs_last15    0\n",
       "team1_winp_team2_last15      0\n",
       "ground_avg_runs_last15       0\n",
       "toss_winner_id               0\n",
       "bat_id                       0\n",
       "team1_winp_last5             0\n",
       "team2_winp_last5             0\n",
       "team2_winp_team1_last15      0\n",
       "team1_winp_venue             0\n",
       "team2_winp_venue             0\n",
       "team1_winp_bat\\chase         0\n",
       "team2_winp_bat\\chase         0\n",
       "bat_venue_win                0\n",
       "bowl_venue_win               0\n",
       "runs_team1_1st_inning        0\n",
       "runs_team2_1st_inning        0\n",
       "runs_team1_2nd_inning        0\n",
       "runs_team2_2nd_inning        0\n",
       "wickets_team2_inning1        0\n",
       "wickets_team1_inning1        0\n",
       "wickets_team1_inning2        0\n",
       "wickets_team2_inning2        0\n",
       "team1_count_50runs_last15    0\n",
       "team2_count_50runs_last15    0\n",
       "team1_SR                     0\n",
       "team2_SR                     0\n",
       "team1_avg                    0\n",
       "team2_avg                    0\n",
       "team1_avg_wkt                0\n",
       "team2_avg_wkt                0\n",
       "team1_avg_eco                0\n",
       "team2_avg_eco                0\n",
       "dtype: int64"
      ]
     },
     "execution_count": 44,
     "metadata": {},
     "output_type": "execute_result"
    }
   ],
   "source": [
    "train_data.isnull().sum()\n",
    "test_lvl_data.isnull().sum()"
   ]
  },
  {
   "cell_type": "code",
   "execution_count": 45,
   "metadata": {},
   "outputs": [],
   "source": [
    "train_data['winner_01'] = train_data.apply(lambda x: 1 if (x['team2']==x['winner']) else 0, axis=1)"
   ]
  },
  {
   "cell_type": "code",
   "execution_count": 46,
   "metadata": {},
   "outputs": [],
   "source": [
    "train_data['toss_winner_01'] = np.where(train_data['toss winner']==train_data['team2'], 1, 0)\n",
    "test_lvl_data['toss_winner_01'] = np.where(test_lvl_data['toss winner']==test_lvl_data['team2'], 1, 0)"
   ]
  },
  {
   "cell_type": "code",
   "execution_count": 47,
   "metadata": {},
   "outputs": [],
   "source": [
    "train_data['toss_decision_01'] = np.where(train_data['toss decision']=='bat', 1, 0)\n",
    "test_lvl_data['toss_decision_01'] = np.where(test_lvl_data['toss decision']=='bat', 1, 0)"
   ]
  },
  {
   "cell_type": "code",
   "execution_count": 48,
   "metadata": {},
   "outputs": [
    {
     "data": {
      "text/plain": [
       "Index(['match id', 'team1', 'team1_id', 'team1_roster_ids', 'team2',\n",
       "       'team2_id', 'team2_roster_ids', 'winner', 'winner_id', 'toss winner',\n",
       "       'toss decision', 'venue', 'city', 'match_dt', 'lighting', 'series_name',\n",
       "       'season', 'ground_id', 'team1_winp_team2_last15', 'toss_winner_id',\n",
       "       'bat_id', 'team1_winp_last5', 'team2_winp_last5',\n",
       "       'team2_winp_team1_last15', 'team1_winp_venue', 'team2_winp_venue',\n",
       "       'team1_winp_bat\\chase', 'team2_winp_bat\\chase', 'bat_venue_win',\n",
       "       'bowl_venue_win', 'runs_team1_1st_inning', 'runs_team2_1st_inning',\n",
       "       'runs_team1_2nd_inning', 'runs_team2_2nd_inning',\n",
       "       'wickets_team2_inning1', 'wickets_team1_inning1',\n",
       "       'wickets_team1_inning2', 'wickets_team2_inning2',\n",
       "       'team1_count_50runs_last15', 'team2_count_50runs_last15', 'team1_SR',\n",
       "       'team2_SR', 'team1_avg', 'team2_avg', 'team1_avg_wkt', 'team2_avg_wkt',\n",
       "       'team1_avg_eco', 'team2_avg_eco', 'winner_01', 'toss_winner_01',\n",
       "       'toss_decision_01'],\n",
       "      dtype='object')"
      ]
     },
     "execution_count": 48,
     "metadata": {},
     "output_type": "execute_result"
    }
   ],
   "source": [
    "train_data.columns"
   ]
  },
  {
   "cell_type": "code",
   "execution_count": 49,
   "metadata": {},
   "outputs": [
    {
     "data": {
      "text/plain": [
       "Index(['match id', 'team1', 'team1_id', 'team1_roster_ids', 'team2',\n",
       "       'team2_id', 'team2_roster_ids', 'toss winner', 'toss decision', 'venue',\n",
       "       'city', 'match_dt', 'lighting', 'series_name', 'season', 'ground_id',\n",
       "       'team_count_50runs_last15', 'team_winp_last5',\n",
       "       'team1only_avg_runs_last15', 'team1_winp_team2_last15',\n",
       "       'ground_avg_runs_last15', 'toss_winner_id', 'bat_id',\n",
       "       'team1_winp_last5', 'team2_winp_last5', 'team2_winp_team1_last15',\n",
       "       'team1_winp_venue', 'team2_winp_venue', 'team1_winp_bat\\chase',\n",
       "       'team2_winp_bat\\chase', 'bat_venue_win', 'bowl_venue_win',\n",
       "       'runs_team1_1st_inning', 'runs_team2_1st_inning',\n",
       "       'runs_team1_2nd_inning', 'runs_team2_2nd_inning',\n",
       "       'wickets_team2_inning1', 'wickets_team1_inning1',\n",
       "       'wickets_team1_inning2', 'wickets_team2_inning2',\n",
       "       'team1_count_50runs_last15', 'team2_count_50runs_last15', 'team1_SR',\n",
       "       'team2_SR', 'team1_avg', 'team2_avg', 'team1_avg_wkt', 'team2_avg_wkt',\n",
       "       'team1_avg_eco', 'team2_avg_eco', 'toss_winner_01', 'toss_decision_01'],\n",
       "      dtype='object')"
      ]
     },
     "execution_count": 49,
     "metadata": {},
     "output_type": "execute_result"
    }
   ],
   "source": [
    "test_lvl_data.columns"
   ]
  },
  {
   "cell_type": "code",
   "execution_count": 50,
   "metadata": {},
   "outputs": [
    {
     "name": "stderr",
     "output_type": "stream",
     "text": [
      "<>:2: SyntaxWarning: invalid escape sequence '\\c'\n",
      "<>:3: SyntaxWarning: invalid escape sequence '\\c'\n",
      "<>:12: SyntaxWarning: invalid escape sequence '\\c'\n",
      "<>:13: SyntaxWarning: invalid escape sequence '\\c'\n",
      "<>:2: SyntaxWarning: invalid escape sequence '\\c'\n",
      "<>:3: SyntaxWarning: invalid escape sequence '\\c'\n",
      "<>:12: SyntaxWarning: invalid escape sequence '\\c'\n",
      "<>:13: SyntaxWarning: invalid escape sequence '\\c'\n",
      "/var/folders/z7/t3qmw89j637f4y58ls6cb_vh0000gn/T/ipykernel_26891/3179643299.py:2: SyntaxWarning: invalid escape sequence '\\c'\n",
      "  'team1_winp_venue', 'team2_winp_venue', 'team1_winp_bat\\chase',\n",
      "/var/folders/z7/t3qmw89j637f4y58ls6cb_vh0000gn/T/ipykernel_26891/3179643299.py:3: SyntaxWarning: invalid escape sequence '\\c'\n",
      "  'team2_winp_bat\\chase', 'bat_venue_win', 'bowl_venue_win',\n",
      "/var/folders/z7/t3qmw89j637f4y58ls6cb_vh0000gn/T/ipykernel_26891/3179643299.py:12: SyntaxWarning: invalid escape sequence '\\c'\n",
      "  'team1_winp_venue', 'team2_winp_venue', 'team1_winp_bat\\chase',\n",
      "/var/folders/z7/t3qmw89j637f4y58ls6cb_vh0000gn/T/ipykernel_26891/3179643299.py:13: SyntaxWarning: invalid escape sequence '\\c'\n",
      "  'team2_winp_bat\\chase', 'bat_venue_win', 'bowl_venue_win',\n"
     ]
    }
   ],
   "source": [
    "Selected_cols_train=['team1_winp_last5', 'team2_winp_last5','team1_winp_team2_last15', 'team2_winp_team1_last15',\n",
    "       'team1_winp_venue', 'team2_winp_venue', 'team1_winp_bat\\chase',\n",
    "       'team2_winp_bat\\chase', 'bat_venue_win', 'bowl_venue_win',\n",
    "       'runs_team1_1st_inning', 'runs_team2_1st_inning',\n",
    "       'runs_team1_2nd_inning', 'runs_team2_2nd_inning',\n",
    "       'wickets_team2_inning1', 'wickets_team1_inning2',\n",
    "       'team1_count_50runs_last15', 'team2_count_50runs_last15', 'team1_SR',\n",
    "       'team2_SR', 'team1_avg', 'team2_avg', 'team1_avg_wkt', 'team2_avg_wkt',\n",
    "       'team1_avg_eco', 'team2_avg_eco', 'toss_winner_01','toss_decision_01','wickets_team2_inning2', 'wickets_team1_inning1']\n",
    "\n",
    "Selected_cols_test=['team1_winp_last5', 'team2_winp_last5','team1_winp_team2_last15', 'team2_winp_team1_last15',\n",
    "       'team1_winp_venue', 'team2_winp_venue', 'team1_winp_bat\\chase',\n",
    "       'team2_winp_bat\\chase', 'bat_venue_win', 'bowl_venue_win',\n",
    "       'runs_team1_1st_inning', 'runs_team2_1st_inning',\n",
    "       'runs_team1_2nd_inning', 'runs_team2_2nd_inning',\n",
    "       'wickets_team2_inning1', 'wickets_team1_inning2',\n",
    "       'team1_count_50runs_last15', 'team2_count_50runs_last15', 'team1_SR',\n",
    "       'team2_SR', 'team1_avg', 'team2_avg', 'team1_avg_wkt', 'team2_avg_wkt',\n",
    "       'team1_avg_eco', 'team2_avg_eco', 'toss_winner_01', 'toss_decision_01','wickets_team2_inning2', 'wickets_team1_inning1']"
   ]
  },
  {
   "cell_type": "code",
   "execution_count": 51,
   "metadata": {},
   "outputs": [
    {
     "data": {
      "text/plain": [
       "team1_avg                   -0.142492\n",
       "team1_count_50runs_last15   -0.132540\n",
       "team1_SR                    -0.130171\n",
       "team1_winp_venue            -0.098093\n",
       "wickets_team1_inning2       -0.086395\n",
       "team1_winp_bat\\chase        -0.077241\n",
       "team1_avg_wkt               -0.075659\n",
       "team1_winp_last5            -0.074258\n",
       "team2_id                    -0.072937\n",
       "runs_team1_2nd_inning       -0.071637\n",
       "winner_id                   -0.070142\n",
       "toss_winner_id              -0.066803\n",
       "team1_winp_team2_last15     -0.064668\n",
       "bowl_venue_win              -0.062750\n",
       "bat_id                      -0.058767\n",
       "team1_id                    -0.058767\n",
       "runs_team1_1st_inning       -0.056216\n",
       "team1_avg_eco               -0.041679\n",
       "toss_winner_01              -0.035146\n",
       "runs_team2_2nd_inning       -0.018389\n",
       "team2_avg_eco               -0.013403\n",
       "team2_avg                   -0.005347\n",
       "team2_count_50runs_last15   -0.002153\n",
       "ground_id                    0.009766\n",
       "runs_team2_1st_inning        0.012391\n",
       "wickets_team1_inning1        0.016792\n",
       "bat_venue_win                0.016904\n",
       "wickets_team2_inning1        0.021277\n",
       "team2_winp_team1_last15      0.022062\n",
       "team2_winp_bat\\chase         0.036090\n",
       "match id                     0.037864\n",
       "team2_avg_wkt                0.041392\n",
       "toss_decision_01             0.041627\n",
       "team2_SR                     0.043121\n",
       "wickets_team2_inning2        0.058521\n",
       "team2_winp_last5             0.075585\n",
       "team2_winp_venue             0.080701\n",
       "winner_01                    1.000000\n",
       "Name: winner_01, dtype: float64"
      ]
     },
     "execution_count": 51,
     "metadata": {},
     "output_type": "execute_result"
    }
   ],
   "source": [
    "train_data.select_dtypes(include=['number']).corr()['winner_01'].sort_values(ascending = True)"
   ]
  },
  {
   "cell_type": "code",
   "execution_count": null,
   "metadata": {},
   "outputs": [],
   "source": [
    "X,y = train_data[Selected_cols_train], train_data['winner_01']"
   ]
  },
  {
   "cell_type": "code",
   "execution_count": null,
   "metadata": {},
   "outputs": [],
   "source": [
    "from sklearn.metrics import accuracy_score\n",
    "from sklearn.ensemble import GradientBoostingClassifier\n",
    "from lightgbm import LGBMClassifier\n",
    "from xgboost import XGBClassifier\n",
    "from catboost import CatBoostClassifier\n",
    "from sklearn.model_selection import train_test_split, GridSearchCV, StratifiedKFold"
   ]
  },
  {
   "cell_type": "code",
   "execution_count": null,
   "metadata": {},
   "outputs": [],
   "source": [
    "X_train, X_test, y_train, y_test = train_test_split(X, y, test_size=0.2, random_state=42)"
   ]
  },
  {
   "cell_type": "code",
   "execution_count": null,
   "metadata": {},
   "outputs": [],
   "source": [
    "GBM_model = GradientBoostingClassifier()\n",
    "LGBM_model = LGBMClassifier()\n",
    "XGB_model = XGBClassifier()\n",
    "CatBoost_model = CatBoostClassifier()\n",
    "\n",
    "# Train the models\n",
    "GBM_model.fit(X_train, y_train)\n",
    "LGBM_model.fit(X_train, y_train)\n",
    "XGB_model.fit(X_train, y_train)\n",
    "CatBoost_model.fit(X_train, y_train)\n",
    "\n",
    "# Make predictions\n",
    "y_pred_GBM = GBM_model.predict(X_test)\n",
    "y_pred_LGBM = LGBM_model.predict(X_test)\n",
    "y_pred_XGB = XGB_model.predict(X_test)\n",
    "y_pred_CatBoost = CatBoost_model.predict(X_test)\n",
    "\n",
    "# Evaluate models\n",
    "accuracy_GBM = accuracy_score(y_test, y_pred_GBM)\n",
    "accuracy_LGBM = accuracy_score(y_test, y_pred_LGBM)\n",
    "accuracy_XGB = accuracy_score(y_test, y_pred_XGB)\n",
    "accuracy_CatBoost = accuracy_score(y_test, y_pred_CatBoost)\n",
    "\n",
    "print(\"Accuracy for GBM model:\", accuracy_GBM)\n",
    "print(\"Accuracy for LGBM model:\", accuracy_LGBM)\n",
    "print(\"Accuracy for XGB model:\", accuracy_XGB)\n",
    "print(\"Accuracy for CatBoost model:\", accuracy_CatBoost)"
   ]
  },
  {
   "cell_type": "code",
   "execution_count": null,
   "metadata": {},
   "outputs": [],
   "source": [
    "import optuna\n",
    "from catboost import Pool\n",
    "train_pool = Pool(data=X_train, label=y_train)\n",
    "valid_pool = Pool(data=X_test, label=y_test)\n",
    "\n",
    "# Define the objective function for hyperparameter tuning\n",
    "def objective(trial):\n",
    "    params = {\n",
    "        'iterations': trial.suggest_int('iterations', 100, 1000),\n",
    "        'learning_rate': trial.suggest_loguniform('learning_rate', 1e-4, 1e-1),\n",
    "        'depth': trial.suggest_int('depth', 4, 10),\n",
    "        'l2_leaf_reg': trial.suggest_loguniform('l2_leaf_reg', 1e-3, 10.0),\n",
    "        'border_count': trial.suggest_int('border_count', 32, 255),\n",
    "        'bagging_temperature': trial.suggest_loguniform('bagging_temperature', 0.01, 1.0),\n",
    "        'random_strength': trial.suggest_loguniform('random_strength', 1e-3, 10.0),\n",
    "        'od_type': trial.suggest_categorical('od_type', ['IncToDec', 'Iter']),\n",
    "        'od_wait': trial.suggest_int('od_wait', 10, 50),\n",
    "        'verbose': 0  # Suppress output for tuning\n",
    "    }\n",
    "    \n",
    "    model = CatBoostClassifier(**params)\n",
    "    model.fit(train_pool)\n",
    "    \n",
    "    preds = model.predict(valid_pool)\n",
    "    accuracy = accuracy_score(y_test, preds)\n",
    "    \n",
    "    return -accuracy  # Minimize the negative accuracy\n",
    "\n",
    "# Create and run the Optuna study\n",
    "study = optuna.create_study(direction='minimize')\n",
    "study.optimize(objective, n_trials=100)\n",
    "\n",
    "# Get the best parameters\n",
    "best_params = study.best_params\n",
    "print(f\"Best parameters: {best_params}\")\n",
    "\n",
    "# Train the final model with the best parameters\n",
    "best_model = CatBoostClassifier(\n",
    "    iterations=best_params['iterations'],\n",
    "    learning_rate=best_params['learning_rate'],\n",
    "    depth=best_params['depth'],\n",
    "    l2_leaf_reg=best_params['l2_leaf_reg'],\n",
    "    border_count=best_params['border_count'],\n",
    "    bagging_temperature=best_params['bagging_temperature'],\n",
    "    random_strength=best_params['random_strength'],\n",
    "    od_type=best_params['od_type'],\n",
    "    od_wait=best_params['od_wait'],\n",
    "    verbose=100  # To monitor the training process\n",
    ")\n",
    "\n",
    "best_model.fit(X_train, y_train)\n",
    "\n",
    "# Evaluate the final model on the validation set\n",
    "final_preds = best_model.predict(X_test)\n",
    "final_accuracy = accuracy_score(y_test, final_preds)\n",
    "print(final_accuracy)"
   ]
  },
  {
   "cell_type": "code",
   "execution_count": null,
   "metadata": {},
   "outputs": [],
   "source": [
    "best_model.fit(X, y)"
   ]
  },
  {
   "cell_type": "code",
   "execution_count": null,
   "metadata": {},
   "outputs": [],
   "source": [
    "test= test_lvl_data[Selected_cols_test]"
   ]
  },
  {
   "cell_type": "code",
   "execution_count": null,
   "metadata": {},
   "outputs": [],
   "source": [
    "train_data['y_pred_01'] = best_model.predict(X)\n",
    "test_lvl_data['y_pred_01'] = best_model.predict(test)"
   ]
  },
  {
   "cell_type": "code",
   "execution_count": null,
   "metadata": {},
   "outputs": [],
   "source": [
    "test_lvl_data['y_pred_01'].value_counts()"
   ]
  },
  {
   "cell_type": "code",
   "execution_count": null,
   "metadata": {},
   "outputs": [],
   "source": [
    "142/271"
   ]
  },
  {
   "cell_type": "code",
   "execution_count": null,
   "metadata": {},
   "outputs": [],
   "source": []
  }
 ],
 "metadata": {
  "kernelspec": {
   "display_name": "Python 3",
   "language": "python",
   "name": "python3"
  },
  "language_info": {
   "codemirror_mode": {
    "name": "ipython",
    "version": 3
   },
   "file_extension": ".py",
   "mimetype": "text/x-python",
   "name": "python",
   "nbconvert_exporter": "python",
   "pygments_lexer": "ipython3",
   "version": "3.12.3"
  }
 },
 "nbformat": 4,
 "nbformat_minor": 2
}
